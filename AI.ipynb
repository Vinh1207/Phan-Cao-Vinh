{
  "nbformat": 4,
  "nbformat_minor": 0,
  "metadata": {
    "colab": {
      "provenance": [],
      "collapsed_sections": [],
      "authorship_tag": "ABX9TyNuGUmahiKcAt4oD2REZUYQ",
      "include_colab_link": true
    },
    "kernelspec": {
      "name": "python3",
      "display_name": "Python 3"
    },
    "language_info": {
      "name": "python"
    }
  },
  "cells": [
    {
      "cell_type": "markdown",
      "metadata": {
        "id": "view-in-github",
        "colab_type": "text"
      },
      "source": [
        "<a href=\"https://colab.research.google.com/github/Vinh1207/Phan-Cao-Vinh/blob/main/AI.ipynb\" target=\"_parent\"><img src=\"https://colab.research.google.com/assets/colab-badge.svg\" alt=\"Open In Colab\"/></a>"
      ]
    },
    {
      "cell_type": "code",
      "execution_count": null,
      "metadata": {
        "id": "G51p2VqIjtIv"
      },
      "outputs": [],
      "source": [
        "with open ('text.txt',mode='w')as accounts:\n",
        "  accounts.write('1 Nguyen Van A      8.0\\n')\n",
        "  accounts.write('2 Le Thi B          6.8\\n')\n",
        "  "
      ]
    },
    {
      "cell_type": "code",
      "source": [
        "with open ('text.txt',mode='w')as accounts:\n",
        "  print('7.00 Nguyen Van A',file=accounts)\n",
        "  print('7.01 Le Thi B',file=accounts)\n",
        "  "
      ],
      "metadata": {
        "id": "tvPMzKQ7lfI7"
      },
      "execution_count": null,
      "outputs": []
    },
    {
      "cell_type": "code",
      "source": [
        "import pandas as pd\n",
        "url = 'test.csv'\n",
        "dataframe = pd.read_csv(url)\n",
        "dataframe.head(5)"
      ],
      "metadata": {
        "id": "b9wjqg3srNIR"
      },
      "execution_count": null,
      "outputs": []
    },
    {
      "cell_type": "code",
      "source": [
        "import pandas as pd\n",
        "dataframe = pd.DataFrame()\n",
        "dataframe['Name']=['Nguyen Van A','Le Thi B']\n",
        "dataframe['Studnet ID']=[20104001,20104002]\n",
        "dataframe['Score']=[8.0,9.0]\n",
        "dataframe"
      ],
      "metadata": {
        "id": "quHNBfcwvwiT"
      },
      "execution_count": null,
      "outputs": []
    },
    {
      "cell_type": "code",
      "source": [
        "import pandas as pd\n",
        "url = 'test.csv'\n",
        "dataframe = pd.read_csv(url)\n",
        "dataframe.head(10)\n",
        "dataframe[(dataframe['Gioi tinh']=='Nam') & (dataframe['Ten']=='Cao Vinh')]"
      ],
      "metadata": {
        "id": "ap3ZNlVfxdNB"
      },
      "execution_count": null,
      "outputs": []
    },
    {
      "cell_type": "code",
      "source": [
        "import pandas as pd\n",
        "url = 'test.csv'\n",
        "dataframe = pd.read_csv(url)\n",
        "dataframe.head(10)\n",
        "dataframe[(dataframe['Gioi tinh']=='Nu')].head(5)"
      ],
      "metadata": {
        "id": "_zy52Gs94NGQ"
      },
      "execution_count": null,
      "outputs": []
    },
    {
      "cell_type": "code",
      "source": [
        "import pandas as pd\n",
        "url = 'test.csv'\n",
        "dataframe = pd.read_csv(url)\n",
        "dataframe.head(10)\n",
        "dataframe['Khoa'].unique()"
      ],
      "metadata": {
        "colab": {
          "base_uri": "https://localhost:8080/"
        },
        "id": "ONAmSz9B5SnV",
        "outputId": "94efad39-1c9a-4c36-be9d-b9b91299a391"
      },
      "execution_count": null,
      "outputs": [
        {
          "output_type": "execute_result",
          "data": {
            "text/plain": [
              "array(['CKM', 'CLC'], dtype=object)"
            ]
          },
          "metadata": {},
          "execution_count": 43
        }
      ]
    },
    {
      "cell_type": "code",
      "source": [
        "import pandas as pd\n",
        "url = 'test.csv'\n",
        "dataframe=pd.read_csv(url)\n",
        "dataframe.head(10)\n",
        "dataframe.drop(['Nien khoa','Gioi tinh'],axis=1).head(10)\n"
      ],
      "metadata": {
        "id": "48u_qd2u5Tnr"
      },
      "execution_count": null,
      "outputs": []
    },
    {
      "cell_type": "code",
      "source": [
        "import pandas as pd\n",
        "url = 'test.csv'\n",
        "dataframe = pd.read_csv(url)\n",
        "dataframe.head(10)\n",
        "dataframe['Khoa'].value_counts()"
      ],
      "metadata": {
        "id": "PFuioVq07dZs"
      },
      "execution_count": null,
      "outputs": []
    },
    {
      "cell_type": "code",
      "source": [
        "import pandas as pd\n",
        "url = 'test.csv'\n",
        "dataframe = pd.read_csv(url)\n",
        "dataframe.head(10)\n",
        "dataframe.groupby('Ten').mean()"
      ],
      "metadata": {
        "id": "IPxUr6Hi7t_6"
      },
      "execution_count": null,
      "outputs": []
    },
    {
      "cell_type": "code",
      "source": [
        "import pandas as pd\n",
        "url = 'test.csv'\n",
        "dataframe = pd.read_csv(url)\n",
        "dataframe.head(10)\n",
        "dataframe.groupby(['Gioi tinh','Ten','Nien khoa']).count()"
      ],
      "metadata": {
        "id": "aP2AI-lP8ptC"
      },
      "execution_count": null,
      "outputs": []
    },
    {
      "cell_type": "code",
      "source": [
        "import pandas as pd\n",
        "url = 'http://winterolympicsmedals.com/medals.csv'\n",
        "data = pd.read_csv(url)\n",
        "dataframe.head()\n",
        "data['NOC'].unique()"
      ],
      "metadata": {
        "colab": {
          "base_uri": "https://localhost:8080/"
        },
        "id": "OB5vQSRJ-TQu",
        "outputId": "24d55e59-16e3-456e-8d59-cd05ba38fe02"
      },
      "execution_count": null,
      "outputs": [
        {
          "output_type": "execute_result",
          "data": {
            "text/plain": [
              "array(['AUT', 'BEL', 'CAN', 'FIN', 'FRA', 'GBR', 'NOR', 'SUI', 'SWE',\n",
              "       'USA', 'GER', 'TCH', 'HUN', 'ITA', 'FRG', 'NED', 'EUA', 'JPN',\n",
              "       'POL', 'URS', 'PRK', 'GDR', 'ROU', 'ESP', 'LIE', 'BUL', 'YUG',\n",
              "       'CHN', 'EUN', 'KOR', 'LUX', 'NZL', 'AUS', 'BLR', 'KAZ', 'RUS',\n",
              "       'SLO', 'UKR', 'UZB', 'CZE', 'DEN', 'CRO', 'EST', 'LAT', 'SVK'],\n",
              "      dtype=object)"
            ]
          },
          "metadata": {},
          "execution_count": 63
        }
      ]
    },
    {
      "cell_type": "code",
      "source": [
        "import pandas as pd\n",
        "url = 'http://winterolympicsmedals.com/medals.csv'\n",
        "data = pd.read_csv(url)\n",
        "dataframe.head()\n",
        "data['Medal'].unique()"
      ],
      "metadata": {
        "colab": {
          "base_uri": "https://localhost:8080/"
        },
        "id": "YSWdc5f8AAjc",
        "outputId": "9ca92e7b-ba0a-47aa-dce8-975f7c0b5d4f"
      },
      "execution_count": null,
      "outputs": [
        {
          "output_type": "execute_result",
          "data": {
            "text/plain": [
              "array(['Silver', 'Gold', 'Bronze'], dtype=object)"
            ]
          },
          "metadata": {},
          "execution_count": 64
        }
      ]
    },
    {
      "cell_type": "code",
      "source": [
        "import pandas as pd\n",
        "url = 'http://winterolympicsmedals.com/medals.csv'\n",
        "data = pd.read_csv(url)\n",
        "dataframe.head()\n",
        "data['Medal'].value_counts()"
      ],
      "metadata": {
        "colab": {
          "base_uri": "https://localhost:8080/"
        },
        "id": "XPNPJYtxAM4N",
        "outputId": "0d1d6439-9f88-4103-8882-e97a0a63c3ab"
      },
      "execution_count": null,
      "outputs": [
        {
          "output_type": "execute_result",
          "data": {
            "text/plain": [
              "Gold      774\n",
              "Silver    773\n",
              "Bronze    764\n",
              "Name: Medal, dtype: int64"
            ]
          },
          "metadata": {},
          "execution_count": 65
        }
      ]
    },
    {
      "cell_type": "code",
      "source": [
        "import pandas as pd\n",
        "url = 'http://winterolympicsmedals.com/medals.csv'\n",
        "data = pd.read_csv(url)\n",
        "dataframe.head()\n",
        "data[(data['NOC']=='SWE') & (data['Medal']=='Gold') & (data ['Year']>=2006)]"
      ],
      "metadata": {
        "colab": {
          "base_uri": "https://localhost:8080/",
          "height": 269
        },
        "id": "v9lAHlJkAWbu",
        "outputId": "55ee92da-5cd8-4c97-9948-2fe9f44946b9"
      },
      "execution_count": null,
      "outputs": [
        {
          "output_type": "execute_result",
          "data": {
            "text/plain": [
              "      Year   City       Sport       Discipline  NOC              Event  \\\n",
              "2270  2006  Turin    Biathlon         Biathlon  SWE  12.5km mass start   \n",
              "2272  2006  Turin     Curling          Curling  SWE            curling   \n",
              "2273  2006  Turin  Ice Hockey       Ice Hockey  SWE         ice hockey   \n",
              "2278  2006  Turin      Skiing    Alpine Skiing  SWE             slalom   \n",
              "2281  2006  Turin      Skiing  Cross Country S  SWE       Sprint 1.5km   \n",
              "2282  2006  Turin      Skiing  Cross Country S  SWE        Team sprint   \n",
              "2283  2006  Turin      Skiing  Cross Country S  SWE        Team sprint   \n",
              "\n",
              "     Event gender Medal  \n",
              "2270            W  Gold  \n",
              "2272            W  Gold  \n",
              "2273            M  Gold  \n",
              "2278            W  Gold  \n",
              "2281            M  Gold  \n",
              "2282            M  Gold  \n",
              "2283            W  Gold  "
            ],
            "text/html": [
              "\n",
              "  <div id=\"df-82a64c83-d440-471c-90ef-cdff0f392062\">\n",
              "    <div class=\"colab-df-container\">\n",
              "      <div>\n",
              "<style scoped>\n",
              "    .dataframe tbody tr th:only-of-type {\n",
              "        vertical-align: middle;\n",
              "    }\n",
              "\n",
              "    .dataframe tbody tr th {\n",
              "        vertical-align: top;\n",
              "    }\n",
              "\n",
              "    .dataframe thead th {\n",
              "        text-align: right;\n",
              "    }\n",
              "</style>\n",
              "<table border=\"1\" class=\"dataframe\">\n",
              "  <thead>\n",
              "    <tr style=\"text-align: right;\">\n",
              "      <th></th>\n",
              "      <th>Year</th>\n",
              "      <th>City</th>\n",
              "      <th>Sport</th>\n",
              "      <th>Discipline</th>\n",
              "      <th>NOC</th>\n",
              "      <th>Event</th>\n",
              "      <th>Event gender</th>\n",
              "      <th>Medal</th>\n",
              "    </tr>\n",
              "  </thead>\n",
              "  <tbody>\n",
              "    <tr>\n",
              "      <th>2270</th>\n",
              "      <td>2006</td>\n",
              "      <td>Turin</td>\n",
              "      <td>Biathlon</td>\n",
              "      <td>Biathlon</td>\n",
              "      <td>SWE</td>\n",
              "      <td>12.5km mass start</td>\n",
              "      <td>W</td>\n",
              "      <td>Gold</td>\n",
              "    </tr>\n",
              "    <tr>\n",
              "      <th>2272</th>\n",
              "      <td>2006</td>\n",
              "      <td>Turin</td>\n",
              "      <td>Curling</td>\n",
              "      <td>Curling</td>\n",
              "      <td>SWE</td>\n",
              "      <td>curling</td>\n",
              "      <td>W</td>\n",
              "      <td>Gold</td>\n",
              "    </tr>\n",
              "    <tr>\n",
              "      <th>2273</th>\n",
              "      <td>2006</td>\n",
              "      <td>Turin</td>\n",
              "      <td>Ice Hockey</td>\n",
              "      <td>Ice Hockey</td>\n",
              "      <td>SWE</td>\n",
              "      <td>ice hockey</td>\n",
              "      <td>M</td>\n",
              "      <td>Gold</td>\n",
              "    </tr>\n",
              "    <tr>\n",
              "      <th>2278</th>\n",
              "      <td>2006</td>\n",
              "      <td>Turin</td>\n",
              "      <td>Skiing</td>\n",
              "      <td>Alpine Skiing</td>\n",
              "      <td>SWE</td>\n",
              "      <td>slalom</td>\n",
              "      <td>W</td>\n",
              "      <td>Gold</td>\n",
              "    </tr>\n",
              "    <tr>\n",
              "      <th>2281</th>\n",
              "      <td>2006</td>\n",
              "      <td>Turin</td>\n",
              "      <td>Skiing</td>\n",
              "      <td>Cross Country S</td>\n",
              "      <td>SWE</td>\n",
              "      <td>Sprint 1.5km</td>\n",
              "      <td>M</td>\n",
              "      <td>Gold</td>\n",
              "    </tr>\n",
              "    <tr>\n",
              "      <th>2282</th>\n",
              "      <td>2006</td>\n",
              "      <td>Turin</td>\n",
              "      <td>Skiing</td>\n",
              "      <td>Cross Country S</td>\n",
              "      <td>SWE</td>\n",
              "      <td>Team sprint</td>\n",
              "      <td>M</td>\n",
              "      <td>Gold</td>\n",
              "    </tr>\n",
              "    <tr>\n",
              "      <th>2283</th>\n",
              "      <td>2006</td>\n",
              "      <td>Turin</td>\n",
              "      <td>Skiing</td>\n",
              "      <td>Cross Country S</td>\n",
              "      <td>SWE</td>\n",
              "      <td>Team sprint</td>\n",
              "      <td>W</td>\n",
              "      <td>Gold</td>\n",
              "    </tr>\n",
              "  </tbody>\n",
              "</table>\n",
              "</div>\n",
              "      <button class=\"colab-df-convert\" onclick=\"convertToInteractive('df-82a64c83-d440-471c-90ef-cdff0f392062')\"\n",
              "              title=\"Convert this dataframe to an interactive table.\"\n",
              "              style=\"display:none;\">\n",
              "        \n",
              "  <svg xmlns=\"http://www.w3.org/2000/svg\" height=\"24px\"viewBox=\"0 0 24 24\"\n",
              "       width=\"24px\">\n",
              "    <path d=\"M0 0h24v24H0V0z\" fill=\"none\"/>\n",
              "    <path d=\"M18.56 5.44l.94 2.06.94-2.06 2.06-.94-2.06-.94-.94-2.06-.94 2.06-2.06.94zm-11 1L8.5 8.5l.94-2.06 2.06-.94-2.06-.94L8.5 2.5l-.94 2.06-2.06.94zm10 10l.94 2.06.94-2.06 2.06-.94-2.06-.94-.94-2.06-.94 2.06-2.06.94z\"/><path d=\"M17.41 7.96l-1.37-1.37c-.4-.4-.92-.59-1.43-.59-.52 0-1.04.2-1.43.59L10.3 9.45l-7.72 7.72c-.78.78-.78 2.05 0 2.83L4 21.41c.39.39.9.59 1.41.59.51 0 1.02-.2 1.41-.59l7.78-7.78 2.81-2.81c.8-.78.8-2.07 0-2.86zM5.41 20L4 18.59l7.72-7.72 1.47 1.35L5.41 20z\"/>\n",
              "  </svg>\n",
              "      </button>\n",
              "      \n",
              "  <style>\n",
              "    .colab-df-container {\n",
              "      display:flex;\n",
              "      flex-wrap:wrap;\n",
              "      gap: 12px;\n",
              "    }\n",
              "\n",
              "    .colab-df-convert {\n",
              "      background-color: #E8F0FE;\n",
              "      border: none;\n",
              "      border-radius: 50%;\n",
              "      cursor: pointer;\n",
              "      display: none;\n",
              "      fill: #1967D2;\n",
              "      height: 32px;\n",
              "      padding: 0 0 0 0;\n",
              "      width: 32px;\n",
              "    }\n",
              "\n",
              "    .colab-df-convert:hover {\n",
              "      background-color: #E2EBFA;\n",
              "      box-shadow: 0px 1px 2px rgba(60, 64, 67, 0.3), 0px 1px 3px 1px rgba(60, 64, 67, 0.15);\n",
              "      fill: #174EA6;\n",
              "    }\n",
              "\n",
              "    [theme=dark] .colab-df-convert {\n",
              "      background-color: #3B4455;\n",
              "      fill: #D2E3FC;\n",
              "    }\n",
              "\n",
              "    [theme=dark] .colab-df-convert:hover {\n",
              "      background-color: #434B5C;\n",
              "      box-shadow: 0px 1px 3px 1px rgba(0, 0, 0, 0.15);\n",
              "      filter: drop-shadow(0px 1px 2px rgba(0, 0, 0, 0.3));\n",
              "      fill: #FFFFFF;\n",
              "    }\n",
              "  </style>\n",
              "\n",
              "      <script>\n",
              "        const buttonEl =\n",
              "          document.querySelector('#df-82a64c83-d440-471c-90ef-cdff0f392062 button.colab-df-convert');\n",
              "        buttonEl.style.display =\n",
              "          google.colab.kernel.accessAllowed ? 'block' : 'none';\n",
              "\n",
              "        async function convertToInteractive(key) {\n",
              "          const element = document.querySelector('#df-82a64c83-d440-471c-90ef-cdff0f392062');\n",
              "          const dataTable =\n",
              "            await google.colab.kernel.invokeFunction('convertToInteractive',\n",
              "                                                     [key], {});\n",
              "          if (!dataTable) return;\n",
              "\n",
              "          const docLinkHtml = 'Like what you see? Visit the ' +\n",
              "            '<a target=\"_blank\" href=https://colab.research.google.com/notebooks/data_table.ipynb>data table notebook</a>'\n",
              "            + ' to learn more about interactive tables.';\n",
              "          element.innerHTML = '';\n",
              "          dataTable['output_type'] = 'display_data';\n",
              "          await google.colab.output.renderOutput(dataTable, element);\n",
              "          const docLink = document.createElement('div');\n",
              "          docLink.innerHTML = docLinkHtml;\n",
              "          element.appendChild(docLink);\n",
              "        }\n",
              "      </script>\n",
              "    </div>\n",
              "  </div>\n",
              "  "
            ]
          },
          "metadata": {},
          "execution_count": 75
        }
      ]
    },
    {
      "cell_type": "code",
      "source": [
        "import pandas as pd\n",
        "url = 'http://winterolympicsmedals.com/medals.csv'\n",
        "data = pd.read_csv(url)\n",
        "dataframe.head()\n",
        "data[(data['NOC']=='USA') & (data['Medal']=='Gold') & (data ['Event gender']== 'M')]"
      ],
      "metadata": {
        "colab": {
          "base_uri": "https://localhost:8080/",
          "height": 1000
        },
        "id": "Ok7miQdWClZm",
        "outputId": "484b04fd-d046-426e-d137-2d32ea5ae3a9"
      },
      "execution_count": null,
      "outputs": [
        {
          "output_type": "execute_result",
          "data": {
            "text/plain": [
              "      Year                    City       Sport      Discipline  NOC  \\\n",
              "47    1924                Chamonix     Skating   Speed skating  USA   \n",
              "84    1928              St. Moritz   Bobsleigh       Bobsleigh  USA   \n",
              "86    1928              St. Moritz   Bobsleigh        Skeleton  USA   \n",
              "120   1932             Lake Placid   Bobsleigh       Bobsleigh  USA   \n",
              "123   1932             Lake Placid   Bobsleigh       Bobsleigh  USA   \n",
              "127   1932             Lake Placid     Skating   Speed skating  USA   \n",
              "128   1932             Lake Placid     Skating   Speed skating  USA   \n",
              "129   1932             Lake Placid     Skating   Speed skating  USA   \n",
              "131   1932             Lake Placid     Skating   Speed skating  USA   \n",
              "180   1936  Garmisch-Partenkirchen   Bobsleigh       Bobsleigh  USA   \n",
              "243   1948              St. Moritz   Bobsleigh       Bobsleigh  USA   \n",
              "246   1948              St. Moritz     Skating  Figure skating  USA   \n",
              "311   1952                    Oslo     Skating  Figure skating  USA   \n",
              "314   1952                    Oslo     Skating   Speed skating  USA   \n",
              "386   1956       Cortina d'Ampezzo     Skating  Figure skating  USA   \n",
              "461   1960            Squaw Valley  Ice Hockey      Ice Hockey  USA   \n",
              "462   1960            Squaw Valley     Skating  Figure skating  USA   \n",
              "569   1964               Innsbruck     Skating   Speed skating  USA   \n",
              "888   1976               Innsbruck     Skating   Speed skating  USA   \n",
              "999   1980             Lake Placid  Ice Hockey      Ice Hockey  USA   \n",
              "1002  1980             Lake Placid     Skating   Speed skating  USA   \n",
              "1003  1980             Lake Placid     Skating   Speed skating  USA   \n",
              "1005  1980             Lake Placid     Skating   Speed skating  USA   \n",
              "1007  1980             Lake Placid     Skating   Speed skating  USA   \n",
              "1008  1980             Lake Placid     Skating   Speed skating  USA   \n",
              "1119  1984                Sarajevo     Skating  Figure skating  USA   \n",
              "1122  1984                Sarajevo      Skiing   Alpine Skiing  USA   \n",
              "1125  1984                Sarajevo      Skiing   Alpine Skiing  USA   \n",
              "1257  1988                 Calgary     Skating  Figure skating  USA   \n",
              "1611  1994             Lillehammer     Skating   Speed skating  USA   \n",
              "1614  1994             Lillehammer      Skiing   Alpine Skiing  USA   \n",
              "1820  1998                  Nagano      Skiing  Freestyle Ski.  USA   \n",
              "1822  1998                  Nagano      Skiing  Freestyle Ski.  USA   \n",
              "2028  2002          Salt Lake City   Bobsleigh        Skeleton  USA   \n",
              "2039  2002          Salt Lake City     Skating  Short Track S.  USA   \n",
              "2044  2002          Salt Lake City     Skating   Speed skating  USA   \n",
              "2048  2002          Salt Lake City     Skating   Speed skating  USA   \n",
              "2056  2002          Salt Lake City      Skiing       Snowboard  USA   \n",
              "2293  2006                   Turin     Skating  Short Track S.  USA   \n",
              "2295  2006                   Turin     Skating   Speed skating  USA   \n",
              "2299  2006                   Turin     Skating   Speed skating  USA   \n",
              "2300  2006                   Turin     Skating   Speed skating  USA   \n",
              "2301  2006                   Turin      Skiing   Alpine Skiing  USA   \n",
              "2305  2006                   Turin      Skiing       Snowboard  USA   \n",
              "2309  2006                   Turin      Skiing       Snowboard  USA   \n",
              "\n",
              "                Event Event gender Medal  \n",
              "47               500m            M  Gold  \n",
              "84           five-man            M  Gold  \n",
              "86         individual            M  Gold  \n",
              "120          four-man            M  Gold  \n",
              "123           two-man            M  Gold  \n",
              "127            10000m            M  Gold  \n",
              "128             1500m            M  Gold  \n",
              "129             5000m            M  Gold  \n",
              "131              500m            M  Gold  \n",
              "180           two-man            M  Gold  \n",
              "243          four-man            M  Gold  \n",
              "246        individual            M  Gold  \n",
              "311        individual            M  Gold  \n",
              "314              500m            M  Gold  \n",
              "386        individual            M  Gold  \n",
              "461        ice hockey            M  Gold  \n",
              "462        individual            M  Gold  \n",
              "569              500m            M  Gold  \n",
              "888             1000m            M  Gold  \n",
              "999        ice hockey            M  Gold  \n",
              "1002           10000m            M  Gold  \n",
              "1003            1000m            M  Gold  \n",
              "1005            1500m            M  Gold  \n",
              "1007            5000m            M  Gold  \n",
              "1008             500m            M  Gold  \n",
              "1119       individual            M  Gold  \n",
              "1122         downhill            M  Gold  \n",
              "1125           slalom            M  Gold  \n",
              "1257       individual            M  Gold  \n",
              "1611            1000m            M  Gold  \n",
              "1614         downhill            M  Gold  \n",
              "1820          aerials            M  Gold  \n",
              "1822           moguls            M  Gold  \n",
              "2028       individual            M  Gold  \n",
              "2039            1500m            M  Gold  \n",
              "2044            1500m            M  Gold  \n",
              "2048             500m            M  Gold  \n",
              "2056        Half-pipe            M  Gold  \n",
              "2293             500m            M  Gold  \n",
              "2295            1000m            M  Gold  \n",
              "2299            5000m            M  Gold  \n",
              "2300             500m            M  Gold  \n",
              "2301  Alpine combined            M  Gold  \n",
              "2305        Half-pipe            M  Gold  \n",
              "2309  Snowboard Cross            M  Gold  "
            ],
            "text/html": [
              "\n",
              "  <div id=\"df-858349cd-e284-4d7b-b2bc-a6bf2042e389\">\n",
              "    <div class=\"colab-df-container\">\n",
              "      <div>\n",
              "<style scoped>\n",
              "    .dataframe tbody tr th:only-of-type {\n",
              "        vertical-align: middle;\n",
              "    }\n",
              "\n",
              "    .dataframe tbody tr th {\n",
              "        vertical-align: top;\n",
              "    }\n",
              "\n",
              "    .dataframe thead th {\n",
              "        text-align: right;\n",
              "    }\n",
              "</style>\n",
              "<table border=\"1\" class=\"dataframe\">\n",
              "  <thead>\n",
              "    <tr style=\"text-align: right;\">\n",
              "      <th></th>\n",
              "      <th>Year</th>\n",
              "      <th>City</th>\n",
              "      <th>Sport</th>\n",
              "      <th>Discipline</th>\n",
              "      <th>NOC</th>\n",
              "      <th>Event</th>\n",
              "      <th>Event gender</th>\n",
              "      <th>Medal</th>\n",
              "    </tr>\n",
              "  </thead>\n",
              "  <tbody>\n",
              "    <tr>\n",
              "      <th>47</th>\n",
              "      <td>1924</td>\n",
              "      <td>Chamonix</td>\n",
              "      <td>Skating</td>\n",
              "      <td>Speed skating</td>\n",
              "      <td>USA</td>\n",
              "      <td>500m</td>\n",
              "      <td>M</td>\n",
              "      <td>Gold</td>\n",
              "    </tr>\n",
              "    <tr>\n",
              "      <th>84</th>\n",
              "      <td>1928</td>\n",
              "      <td>St. Moritz</td>\n",
              "      <td>Bobsleigh</td>\n",
              "      <td>Bobsleigh</td>\n",
              "      <td>USA</td>\n",
              "      <td>five-man</td>\n",
              "      <td>M</td>\n",
              "      <td>Gold</td>\n",
              "    </tr>\n",
              "    <tr>\n",
              "      <th>86</th>\n",
              "      <td>1928</td>\n",
              "      <td>St. Moritz</td>\n",
              "      <td>Bobsleigh</td>\n",
              "      <td>Skeleton</td>\n",
              "      <td>USA</td>\n",
              "      <td>individual</td>\n",
              "      <td>M</td>\n",
              "      <td>Gold</td>\n",
              "    </tr>\n",
              "    <tr>\n",
              "      <th>120</th>\n",
              "      <td>1932</td>\n",
              "      <td>Lake Placid</td>\n",
              "      <td>Bobsleigh</td>\n",
              "      <td>Bobsleigh</td>\n",
              "      <td>USA</td>\n",
              "      <td>four-man</td>\n",
              "      <td>M</td>\n",
              "      <td>Gold</td>\n",
              "    </tr>\n",
              "    <tr>\n",
              "      <th>123</th>\n",
              "      <td>1932</td>\n",
              "      <td>Lake Placid</td>\n",
              "      <td>Bobsleigh</td>\n",
              "      <td>Bobsleigh</td>\n",
              "      <td>USA</td>\n",
              "      <td>two-man</td>\n",
              "      <td>M</td>\n",
              "      <td>Gold</td>\n",
              "    </tr>\n",
              "    <tr>\n",
              "      <th>127</th>\n",
              "      <td>1932</td>\n",
              "      <td>Lake Placid</td>\n",
              "      <td>Skating</td>\n",
              "      <td>Speed skating</td>\n",
              "      <td>USA</td>\n",
              "      <td>10000m</td>\n",
              "      <td>M</td>\n",
              "      <td>Gold</td>\n",
              "    </tr>\n",
              "    <tr>\n",
              "      <th>128</th>\n",
              "      <td>1932</td>\n",
              "      <td>Lake Placid</td>\n",
              "      <td>Skating</td>\n",
              "      <td>Speed skating</td>\n",
              "      <td>USA</td>\n",
              "      <td>1500m</td>\n",
              "      <td>M</td>\n",
              "      <td>Gold</td>\n",
              "    </tr>\n",
              "    <tr>\n",
              "      <th>129</th>\n",
              "      <td>1932</td>\n",
              "      <td>Lake Placid</td>\n",
              "      <td>Skating</td>\n",
              "      <td>Speed skating</td>\n",
              "      <td>USA</td>\n",
              "      <td>5000m</td>\n",
              "      <td>M</td>\n",
              "      <td>Gold</td>\n",
              "    </tr>\n",
              "    <tr>\n",
              "      <th>131</th>\n",
              "      <td>1932</td>\n",
              "      <td>Lake Placid</td>\n",
              "      <td>Skating</td>\n",
              "      <td>Speed skating</td>\n",
              "      <td>USA</td>\n",
              "      <td>500m</td>\n",
              "      <td>M</td>\n",
              "      <td>Gold</td>\n",
              "    </tr>\n",
              "    <tr>\n",
              "      <th>180</th>\n",
              "      <td>1936</td>\n",
              "      <td>Garmisch-Partenkirchen</td>\n",
              "      <td>Bobsleigh</td>\n",
              "      <td>Bobsleigh</td>\n",
              "      <td>USA</td>\n",
              "      <td>two-man</td>\n",
              "      <td>M</td>\n",
              "      <td>Gold</td>\n",
              "    </tr>\n",
              "    <tr>\n",
              "      <th>243</th>\n",
              "      <td>1948</td>\n",
              "      <td>St. Moritz</td>\n",
              "      <td>Bobsleigh</td>\n",
              "      <td>Bobsleigh</td>\n",
              "      <td>USA</td>\n",
              "      <td>four-man</td>\n",
              "      <td>M</td>\n",
              "      <td>Gold</td>\n",
              "    </tr>\n",
              "    <tr>\n",
              "      <th>246</th>\n",
              "      <td>1948</td>\n",
              "      <td>St. Moritz</td>\n",
              "      <td>Skating</td>\n",
              "      <td>Figure skating</td>\n",
              "      <td>USA</td>\n",
              "      <td>individual</td>\n",
              "      <td>M</td>\n",
              "      <td>Gold</td>\n",
              "    </tr>\n",
              "    <tr>\n",
              "      <th>311</th>\n",
              "      <td>1952</td>\n",
              "      <td>Oslo</td>\n",
              "      <td>Skating</td>\n",
              "      <td>Figure skating</td>\n",
              "      <td>USA</td>\n",
              "      <td>individual</td>\n",
              "      <td>M</td>\n",
              "      <td>Gold</td>\n",
              "    </tr>\n",
              "    <tr>\n",
              "      <th>314</th>\n",
              "      <td>1952</td>\n",
              "      <td>Oslo</td>\n",
              "      <td>Skating</td>\n",
              "      <td>Speed skating</td>\n",
              "      <td>USA</td>\n",
              "      <td>500m</td>\n",
              "      <td>M</td>\n",
              "      <td>Gold</td>\n",
              "    </tr>\n",
              "    <tr>\n",
              "      <th>386</th>\n",
              "      <td>1956</td>\n",
              "      <td>Cortina d'Ampezzo</td>\n",
              "      <td>Skating</td>\n",
              "      <td>Figure skating</td>\n",
              "      <td>USA</td>\n",
              "      <td>individual</td>\n",
              "      <td>M</td>\n",
              "      <td>Gold</td>\n",
              "    </tr>\n",
              "    <tr>\n",
              "      <th>461</th>\n",
              "      <td>1960</td>\n",
              "      <td>Squaw Valley</td>\n",
              "      <td>Ice Hockey</td>\n",
              "      <td>Ice Hockey</td>\n",
              "      <td>USA</td>\n",
              "      <td>ice hockey</td>\n",
              "      <td>M</td>\n",
              "      <td>Gold</td>\n",
              "    </tr>\n",
              "    <tr>\n",
              "      <th>462</th>\n",
              "      <td>1960</td>\n",
              "      <td>Squaw Valley</td>\n",
              "      <td>Skating</td>\n",
              "      <td>Figure skating</td>\n",
              "      <td>USA</td>\n",
              "      <td>individual</td>\n",
              "      <td>M</td>\n",
              "      <td>Gold</td>\n",
              "    </tr>\n",
              "    <tr>\n",
              "      <th>569</th>\n",
              "      <td>1964</td>\n",
              "      <td>Innsbruck</td>\n",
              "      <td>Skating</td>\n",
              "      <td>Speed skating</td>\n",
              "      <td>USA</td>\n",
              "      <td>500m</td>\n",
              "      <td>M</td>\n",
              "      <td>Gold</td>\n",
              "    </tr>\n",
              "    <tr>\n",
              "      <th>888</th>\n",
              "      <td>1976</td>\n",
              "      <td>Innsbruck</td>\n",
              "      <td>Skating</td>\n",
              "      <td>Speed skating</td>\n",
              "      <td>USA</td>\n",
              "      <td>1000m</td>\n",
              "      <td>M</td>\n",
              "      <td>Gold</td>\n",
              "    </tr>\n",
              "    <tr>\n",
              "      <th>999</th>\n",
              "      <td>1980</td>\n",
              "      <td>Lake Placid</td>\n",
              "      <td>Ice Hockey</td>\n",
              "      <td>Ice Hockey</td>\n",
              "      <td>USA</td>\n",
              "      <td>ice hockey</td>\n",
              "      <td>M</td>\n",
              "      <td>Gold</td>\n",
              "    </tr>\n",
              "    <tr>\n",
              "      <th>1002</th>\n",
              "      <td>1980</td>\n",
              "      <td>Lake Placid</td>\n",
              "      <td>Skating</td>\n",
              "      <td>Speed skating</td>\n",
              "      <td>USA</td>\n",
              "      <td>10000m</td>\n",
              "      <td>M</td>\n",
              "      <td>Gold</td>\n",
              "    </tr>\n",
              "    <tr>\n",
              "      <th>1003</th>\n",
              "      <td>1980</td>\n",
              "      <td>Lake Placid</td>\n",
              "      <td>Skating</td>\n",
              "      <td>Speed skating</td>\n",
              "      <td>USA</td>\n",
              "      <td>1000m</td>\n",
              "      <td>M</td>\n",
              "      <td>Gold</td>\n",
              "    </tr>\n",
              "    <tr>\n",
              "      <th>1005</th>\n",
              "      <td>1980</td>\n",
              "      <td>Lake Placid</td>\n",
              "      <td>Skating</td>\n",
              "      <td>Speed skating</td>\n",
              "      <td>USA</td>\n",
              "      <td>1500m</td>\n",
              "      <td>M</td>\n",
              "      <td>Gold</td>\n",
              "    </tr>\n",
              "    <tr>\n",
              "      <th>1007</th>\n",
              "      <td>1980</td>\n",
              "      <td>Lake Placid</td>\n",
              "      <td>Skating</td>\n",
              "      <td>Speed skating</td>\n",
              "      <td>USA</td>\n",
              "      <td>5000m</td>\n",
              "      <td>M</td>\n",
              "      <td>Gold</td>\n",
              "    </tr>\n",
              "    <tr>\n",
              "      <th>1008</th>\n",
              "      <td>1980</td>\n",
              "      <td>Lake Placid</td>\n",
              "      <td>Skating</td>\n",
              "      <td>Speed skating</td>\n",
              "      <td>USA</td>\n",
              "      <td>500m</td>\n",
              "      <td>M</td>\n",
              "      <td>Gold</td>\n",
              "    </tr>\n",
              "    <tr>\n",
              "      <th>1119</th>\n",
              "      <td>1984</td>\n",
              "      <td>Sarajevo</td>\n",
              "      <td>Skating</td>\n",
              "      <td>Figure skating</td>\n",
              "      <td>USA</td>\n",
              "      <td>individual</td>\n",
              "      <td>M</td>\n",
              "      <td>Gold</td>\n",
              "    </tr>\n",
              "    <tr>\n",
              "      <th>1122</th>\n",
              "      <td>1984</td>\n",
              "      <td>Sarajevo</td>\n",
              "      <td>Skiing</td>\n",
              "      <td>Alpine Skiing</td>\n",
              "      <td>USA</td>\n",
              "      <td>downhill</td>\n",
              "      <td>M</td>\n",
              "      <td>Gold</td>\n",
              "    </tr>\n",
              "    <tr>\n",
              "      <th>1125</th>\n",
              "      <td>1984</td>\n",
              "      <td>Sarajevo</td>\n",
              "      <td>Skiing</td>\n",
              "      <td>Alpine Skiing</td>\n",
              "      <td>USA</td>\n",
              "      <td>slalom</td>\n",
              "      <td>M</td>\n",
              "      <td>Gold</td>\n",
              "    </tr>\n",
              "    <tr>\n",
              "      <th>1257</th>\n",
              "      <td>1988</td>\n",
              "      <td>Calgary</td>\n",
              "      <td>Skating</td>\n",
              "      <td>Figure skating</td>\n",
              "      <td>USA</td>\n",
              "      <td>individual</td>\n",
              "      <td>M</td>\n",
              "      <td>Gold</td>\n",
              "    </tr>\n",
              "    <tr>\n",
              "      <th>1611</th>\n",
              "      <td>1994</td>\n",
              "      <td>Lillehammer</td>\n",
              "      <td>Skating</td>\n",
              "      <td>Speed skating</td>\n",
              "      <td>USA</td>\n",
              "      <td>1000m</td>\n",
              "      <td>M</td>\n",
              "      <td>Gold</td>\n",
              "    </tr>\n",
              "    <tr>\n",
              "      <th>1614</th>\n",
              "      <td>1994</td>\n",
              "      <td>Lillehammer</td>\n",
              "      <td>Skiing</td>\n",
              "      <td>Alpine Skiing</td>\n",
              "      <td>USA</td>\n",
              "      <td>downhill</td>\n",
              "      <td>M</td>\n",
              "      <td>Gold</td>\n",
              "    </tr>\n",
              "    <tr>\n",
              "      <th>1820</th>\n",
              "      <td>1998</td>\n",
              "      <td>Nagano</td>\n",
              "      <td>Skiing</td>\n",
              "      <td>Freestyle Ski.</td>\n",
              "      <td>USA</td>\n",
              "      <td>aerials</td>\n",
              "      <td>M</td>\n",
              "      <td>Gold</td>\n",
              "    </tr>\n",
              "    <tr>\n",
              "      <th>1822</th>\n",
              "      <td>1998</td>\n",
              "      <td>Nagano</td>\n",
              "      <td>Skiing</td>\n",
              "      <td>Freestyle Ski.</td>\n",
              "      <td>USA</td>\n",
              "      <td>moguls</td>\n",
              "      <td>M</td>\n",
              "      <td>Gold</td>\n",
              "    </tr>\n",
              "    <tr>\n",
              "      <th>2028</th>\n",
              "      <td>2002</td>\n",
              "      <td>Salt Lake City</td>\n",
              "      <td>Bobsleigh</td>\n",
              "      <td>Skeleton</td>\n",
              "      <td>USA</td>\n",
              "      <td>individual</td>\n",
              "      <td>M</td>\n",
              "      <td>Gold</td>\n",
              "    </tr>\n",
              "    <tr>\n",
              "      <th>2039</th>\n",
              "      <td>2002</td>\n",
              "      <td>Salt Lake City</td>\n",
              "      <td>Skating</td>\n",
              "      <td>Short Track S.</td>\n",
              "      <td>USA</td>\n",
              "      <td>1500m</td>\n",
              "      <td>M</td>\n",
              "      <td>Gold</td>\n",
              "    </tr>\n",
              "    <tr>\n",
              "      <th>2044</th>\n",
              "      <td>2002</td>\n",
              "      <td>Salt Lake City</td>\n",
              "      <td>Skating</td>\n",
              "      <td>Speed skating</td>\n",
              "      <td>USA</td>\n",
              "      <td>1500m</td>\n",
              "      <td>M</td>\n",
              "      <td>Gold</td>\n",
              "    </tr>\n",
              "    <tr>\n",
              "      <th>2048</th>\n",
              "      <td>2002</td>\n",
              "      <td>Salt Lake City</td>\n",
              "      <td>Skating</td>\n",
              "      <td>Speed skating</td>\n",
              "      <td>USA</td>\n",
              "      <td>500m</td>\n",
              "      <td>M</td>\n",
              "      <td>Gold</td>\n",
              "    </tr>\n",
              "    <tr>\n",
              "      <th>2056</th>\n",
              "      <td>2002</td>\n",
              "      <td>Salt Lake City</td>\n",
              "      <td>Skiing</td>\n",
              "      <td>Snowboard</td>\n",
              "      <td>USA</td>\n",
              "      <td>Half-pipe</td>\n",
              "      <td>M</td>\n",
              "      <td>Gold</td>\n",
              "    </tr>\n",
              "    <tr>\n",
              "      <th>2293</th>\n",
              "      <td>2006</td>\n",
              "      <td>Turin</td>\n",
              "      <td>Skating</td>\n",
              "      <td>Short Track S.</td>\n",
              "      <td>USA</td>\n",
              "      <td>500m</td>\n",
              "      <td>M</td>\n",
              "      <td>Gold</td>\n",
              "    </tr>\n",
              "    <tr>\n",
              "      <th>2295</th>\n",
              "      <td>2006</td>\n",
              "      <td>Turin</td>\n",
              "      <td>Skating</td>\n",
              "      <td>Speed skating</td>\n",
              "      <td>USA</td>\n",
              "      <td>1000m</td>\n",
              "      <td>M</td>\n",
              "      <td>Gold</td>\n",
              "    </tr>\n",
              "    <tr>\n",
              "      <th>2299</th>\n",
              "      <td>2006</td>\n",
              "      <td>Turin</td>\n",
              "      <td>Skating</td>\n",
              "      <td>Speed skating</td>\n",
              "      <td>USA</td>\n",
              "      <td>5000m</td>\n",
              "      <td>M</td>\n",
              "      <td>Gold</td>\n",
              "    </tr>\n",
              "    <tr>\n",
              "      <th>2300</th>\n",
              "      <td>2006</td>\n",
              "      <td>Turin</td>\n",
              "      <td>Skating</td>\n",
              "      <td>Speed skating</td>\n",
              "      <td>USA</td>\n",
              "      <td>500m</td>\n",
              "      <td>M</td>\n",
              "      <td>Gold</td>\n",
              "    </tr>\n",
              "    <tr>\n",
              "      <th>2301</th>\n",
              "      <td>2006</td>\n",
              "      <td>Turin</td>\n",
              "      <td>Skiing</td>\n",
              "      <td>Alpine Skiing</td>\n",
              "      <td>USA</td>\n",
              "      <td>Alpine combined</td>\n",
              "      <td>M</td>\n",
              "      <td>Gold</td>\n",
              "    </tr>\n",
              "    <tr>\n",
              "      <th>2305</th>\n",
              "      <td>2006</td>\n",
              "      <td>Turin</td>\n",
              "      <td>Skiing</td>\n",
              "      <td>Snowboard</td>\n",
              "      <td>USA</td>\n",
              "      <td>Half-pipe</td>\n",
              "      <td>M</td>\n",
              "      <td>Gold</td>\n",
              "    </tr>\n",
              "    <tr>\n",
              "      <th>2309</th>\n",
              "      <td>2006</td>\n",
              "      <td>Turin</td>\n",
              "      <td>Skiing</td>\n",
              "      <td>Snowboard</td>\n",
              "      <td>USA</td>\n",
              "      <td>Snowboard Cross</td>\n",
              "      <td>M</td>\n",
              "      <td>Gold</td>\n",
              "    </tr>\n",
              "  </tbody>\n",
              "</table>\n",
              "</div>\n",
              "      <button class=\"colab-df-convert\" onclick=\"convertToInteractive('df-858349cd-e284-4d7b-b2bc-a6bf2042e389')\"\n",
              "              title=\"Convert this dataframe to an interactive table.\"\n",
              "              style=\"display:none;\">\n",
              "        \n",
              "  <svg xmlns=\"http://www.w3.org/2000/svg\" height=\"24px\"viewBox=\"0 0 24 24\"\n",
              "       width=\"24px\">\n",
              "    <path d=\"M0 0h24v24H0V0z\" fill=\"none\"/>\n",
              "    <path d=\"M18.56 5.44l.94 2.06.94-2.06 2.06-.94-2.06-.94-.94-2.06-.94 2.06-2.06.94zm-11 1L8.5 8.5l.94-2.06 2.06-.94-2.06-.94L8.5 2.5l-.94 2.06-2.06.94zm10 10l.94 2.06.94-2.06 2.06-.94-2.06-.94-.94-2.06-.94 2.06-2.06.94z\"/><path d=\"M17.41 7.96l-1.37-1.37c-.4-.4-.92-.59-1.43-.59-.52 0-1.04.2-1.43.59L10.3 9.45l-7.72 7.72c-.78.78-.78 2.05 0 2.83L4 21.41c.39.39.9.59 1.41.59.51 0 1.02-.2 1.41-.59l7.78-7.78 2.81-2.81c.8-.78.8-2.07 0-2.86zM5.41 20L4 18.59l7.72-7.72 1.47 1.35L5.41 20z\"/>\n",
              "  </svg>\n",
              "      </button>\n",
              "      \n",
              "  <style>\n",
              "    .colab-df-container {\n",
              "      display:flex;\n",
              "      flex-wrap:wrap;\n",
              "      gap: 12px;\n",
              "    }\n",
              "\n",
              "    .colab-df-convert {\n",
              "      background-color: #E8F0FE;\n",
              "      border: none;\n",
              "      border-radius: 50%;\n",
              "      cursor: pointer;\n",
              "      display: none;\n",
              "      fill: #1967D2;\n",
              "      height: 32px;\n",
              "      padding: 0 0 0 0;\n",
              "      width: 32px;\n",
              "    }\n",
              "\n",
              "    .colab-df-convert:hover {\n",
              "      background-color: #E2EBFA;\n",
              "      box-shadow: 0px 1px 2px rgba(60, 64, 67, 0.3), 0px 1px 3px 1px rgba(60, 64, 67, 0.15);\n",
              "      fill: #174EA6;\n",
              "    }\n",
              "\n",
              "    [theme=dark] .colab-df-convert {\n",
              "      background-color: #3B4455;\n",
              "      fill: #D2E3FC;\n",
              "    }\n",
              "\n",
              "    [theme=dark] .colab-df-convert:hover {\n",
              "      background-color: #434B5C;\n",
              "      box-shadow: 0px 1px 3px 1px rgba(0, 0, 0, 0.15);\n",
              "      filter: drop-shadow(0px 1px 2px rgba(0, 0, 0, 0.3));\n",
              "      fill: #FFFFFF;\n",
              "    }\n",
              "  </style>\n",
              "\n",
              "      <script>\n",
              "        const buttonEl =\n",
              "          document.querySelector('#df-858349cd-e284-4d7b-b2bc-a6bf2042e389 button.colab-df-convert');\n",
              "        buttonEl.style.display =\n",
              "          google.colab.kernel.accessAllowed ? 'block' : 'none';\n",
              "\n",
              "        async function convertToInteractive(key) {\n",
              "          const element = document.querySelector('#df-858349cd-e284-4d7b-b2bc-a6bf2042e389');\n",
              "          const dataTable =\n",
              "            await google.colab.kernel.invokeFunction('convertToInteractive',\n",
              "                                                     [key], {});\n",
              "          if (!dataTable) return;\n",
              "\n",
              "          const docLinkHtml = 'Like what you see? Visit the ' +\n",
              "            '<a target=\"_blank\" href=https://colab.research.google.com/notebooks/data_table.ipynb>data table notebook</a>'\n",
              "            + ' to learn more about interactive tables.';\n",
              "          element.innerHTML = '';\n",
              "          dataTable['output_type'] = 'display_data';\n",
              "          await google.colab.output.renderOutput(dataTable, element);\n",
              "          const docLink = document.createElement('div');\n",
              "          docLink.innerHTML = docLinkHtml;\n",
              "          element.appendChild(docLink);\n",
              "        }\n",
              "      </script>\n",
              "    </div>\n",
              "  </div>\n",
              "  "
            ]
          },
          "metadata": {},
          "execution_count": 82
        }
      ]
    },
    {
      "cell_type": "code",
      "source": [
        "from openpyxl import Workbook\n",
        "wb = Workbook()\n",
        "Sheet = wb.active\n",
        "Sheet['A1']='Nguyen Van A'\n",
        "Sheet['B1']='20104001'\n",
        "Sheet['A2']='Le Thi B'\n",
        "Sheet['B2']='20104002'\n",
        "wb.save('text.xlsx')"
      ],
      "metadata": {
        "id": "BZxFXtDsj0rz"
      },
      "execution_count": null,
      "outputs": []
    },
    {
      "cell_type": "code",
      "source": [
        "import openpyxl \n",
        "wb = openpyxl.load_workbook('text.xlsx')\n",
        "Sheet = wb.active\n",
        "t1 = Sheet['A1']\n",
        "t2 = Sheet['B1']\n",
        "t3 = Sheet.cell(row = 2,column = 1)\n",
        "t4 = Sheet.cell(row = 2,column = 2)\n",
        "print(t1.value, t2.value)\n",
        "print(t3.value, t4.value)\n",
        "\n"
      ],
      "metadata": {
        "colab": {
          "base_uri": "https://localhost:8080/"
        },
        "id": "0kwLS7Zfmhxk",
        "outputId": "0aeada7e-5f81-4c34-9990-f9e83fee028f"
      },
      "execution_count": null,
      "outputs": [
        {
          "output_type": "stream",
          "name": "stdout",
          "text": [
            "Nguyen Van A 20104001\n",
            "Le Thi B 20104002\n"
          ]
        }
      ]
    },
    {
      "cell_type": "code",
      "source": [
        "import matplotlib.pyplot as plt\n",
        "import numpy as np\n",
        "x = np.arange(8)\n",
        "y = x^2 + 1\n",
        "plt.plot(x,y,'o--')\n",
        "plt.show"
      ],
      "metadata": {
        "colab": {
          "base_uri": "https://localhost:8080/",
          "height": 282
        },
        "id": "5Q4hWZX_4BaX",
        "outputId": "e7be0453-6b54-482d-cc0c-9de25ece0def"
      },
      "execution_count": null,
      "outputs": [
        {
          "output_type": "execute_result",
          "data": {
            "text/plain": [
              "<function matplotlib.pyplot.show(*args, **kw)>"
            ]
          },
          "metadata": {},
          "execution_count": 30
        },
        {
          "output_type": "display_data",
          "data": {
            "text/plain": [
              "<Figure size 432x288 with 1 Axes>"
            ],
            "image/png": "[encoded data removed]"
          },
          "metadata": {
            "needs_background": "light"
          }
        }
      ]
    },
    {
      "cell_type": "code",
      "source": [
        "import matplotlib.pyplot as plt\n",
        "import numpy as np\n",
        "x = np.arange(10)\n",
        "plt.plot(x,-x**3+1,'--o')\n",
        "plt.show"
      ],
      "metadata": {
        "colab": {
          "base_uri": "https://localhost:8080/",
          "height": 282
        },
        "id": "pl1yl4S39dpl",
        "outputId": "f26397db-07f4-4634-c139-46b381ed49f5"
      },
      "execution_count": null,
      "outputs": [
        {
          "output_type": "execute_result",
          "data": {
            "text/plain": [
              "<function matplotlib.pyplot.show(*args, **kw)>"
            ]
          },
          "metadata": {},
          "execution_count": 31
        },
        {
          "output_type": "display_data",
          "data": {
            "text/plain": [
              "<Figure size 432x288 with 1 Axes>"
            ],
            "image/png": "[encoded data removed]"
          },
          "metadata": {
            "needs_background": "light"
          }
        }
      ]
    },
    {
      "cell_type": "code",
      "source": [
        "import matplotlib.pyplot as plt\n",
        "import numpy as np\n",
        "x = np.arange(10)\n",
        "plt.plot(x,-x**3+1,'--o')\n",
        "plt.plot(x,-x**2+1,'--o')\n",
        "plt.plot(x,-2**x,'--o')\n",
        "plt.show"
      ],
      "metadata": {
        "colab": {
          "base_uri": "https://localhost:8080/",
          "height": 282
        },
        "id": "2_f9Uwxh9yP5",
        "outputId": "51cba355-dc84-4532-c717-044ff47223a7"
      },
      "execution_count": null,
      "outputs": [
        {
          "output_type": "execute_result",
          "data": {
            "text/plain": [
              "<function matplotlib.pyplot.show(*args, **kw)>"
            ]
          },
          "metadata": {},
          "execution_count": 35
        },
        {
          "output_type": "display_data",
          "data": {
            "text/plain": [
              "<Figure size 432x288 with 1 Axes>"
            ],
            "image/png": "[encoded data removed]"
          },
          "metadata": {
            "needs_background": "light"
          }
        }
      ]
    },
    {
      "cell_type": "code",
      "source": [
        "import matplotlib.pyplot as plt\n",
        "import numpy as np\n",
        "x = np.arange(10)\n",
        "plt.plot(x,-x**3+1,x,-2**x)"
      ],
      "metadata": {
        "colab": {
          "base_uri": "https://localhost:8080/",
          "height": 300
        },
        "id": "YFAPRiud-bQz",
        "outputId": "edc7c1c4-7c2c-4b91-b669-7692b3473656"
      },
      "execution_count": null,
      "outputs": [
        {
          "output_type": "execute_result",
          "data": {
            "text/plain": [
              "[<matplotlib.lines.Line2D at 0x7f467340b110>,\n",
              " <matplotlib.lines.Line2D at 0x7f467340b390>]"
            ]
          },
          "metadata": {},
          "execution_count": 33
        },
        {
          "output_type": "display_data",
          "data": {
            "text/plain": [
              "<Figure size 432x288 with 1 Axes>"
            ],
            "image/png": "[encoded data removed]"
          },
          "metadata": {
            "needs_background": "light"
          }
        }
      ]
    },
    {
      "cell_type": "code",
      "source": [
        "import matplotlib.pyplot as plt\n",
        "import numpy as np\n",
        "x = np.arange(10)\n",
        "plt.plot(x,-x**3+1,'--o')\n",
        "plt.plot(x,-x**4+1,'--o')\n",
        "plt.plot(x,-3**x,'--o')\n",
        "plt.grid('on')\n",
        "plt.savefig('Dothi.png')\n",
        "plt.show"
      ],
      "metadata": {
        "colab": {
          "base_uri": "https://localhost:8080/",
          "height": 282
        },
        "id": "PfLlUlzX-r3M",
        "outputId": "b746516b-ee7c-4c6e-e11f-ecefac586ef9"
      },
      "execution_count": null,
      "outputs": [
        {
          "output_type": "execute_result",
          "data": {
            "text/plain": [
              "<function matplotlib.pyplot.show(*args, **kw)>"
            ]
          },
          "metadata": {},
          "execution_count": 37
        },
        {
          "output_type": "display_data",
          "data": {
            "text/plain": [
              "<Figure size 432x288 with 1 Axes>"
            ],
            "image/png": "[encoded data removed]"
          },
          "metadata": {
            "needs_background": "light"
          }
        }
      ]
    },
    {
      "cell_type": "code",
      "source": [
        "import matplotlib.pyplot as plt\n",
        "import numpy as np\n",
        "x = np.arange(10)\n",
        "plt.subplots_adjust(wspace = 1, hspace =0.3)\n",
        "plt.subplot(2,2,1)\n",
        "plt.plot(x,-x**2,color = 'green')\n",
        "\n",
        "plt.subplot(2,2,2)\n",
        "plt.plot(x,-x**3,color = 'red')\n",
        "\n",
        "plt.subplot(2,2,3)\n",
        "plt.plot(x,2**x,color = 'yellow')\n",
        "\n",
        "plt.subplot(2,2,4)\n",
        "plt.plot(x,3**x,color = 'blue')"
      ],
      "metadata": {
        "colab": {
          "base_uri": "https://localhost:8080/",
          "height": 282
        },
        "id": "O4jgS1kg_R6C",
        "outputId": "1ed375de-e65a-4f6e-b764-81cce711cda4"
      },
      "execution_count": null,
      "outputs": [
        {
          "output_type": "execute_result",
          "data": {
            "text/plain": [
              "[<matplotlib.lines.Line2D at 0x7f4672ea1810>]"
            ]
          },
          "metadata": {},
          "execution_count": 43
        },
        {
          "output_type": "display_data",
          "data": {
            "text/plain": [
              "<Figure size 432x288 with 4 Axes>"
            ],
            "image/png": "[encoded data removed]"
          },
          "metadata": {
            "needs_background": "light"
          }
        }
      ]
    },
    {
      "cell_type": "code",
      "source": [
        "import matplotlib.pyplot as plt\n",
        "import numpy as np\n",
        "plt.axis([0,300,0,250])\n",
        "plt.scatter(60,50,s = 1000,color = 'yellow',alpha = 1)\n",
        "plt.scatter(80,80,s = 1000,color = 'yellow',alpha = 0.2)\n",
        "plt.scatter(100,20,s = 1000,color = 'yellow',alpha = 0.6)\n",
        "plt.show"
      ],
      "metadata": {
        "colab": {
          "base_uri": "https://localhost:8080/",
          "height": 286
        },
        "id": "RKqv94QQDiS3",
        "outputId": "a9411e0d-48c5-48ef-ce91-cbd9c415febd"
      },
      "execution_count": null,
      "outputs": [
        {
          "output_type": "execute_result",
          "data": {
            "text/plain": [
              "<function matplotlib.pyplot.show(*args, **kw)>"
            ]
          },
          "metadata": {},
          "execution_count": 57
        },
        {
          "output_type": "display_data",
          "data": {
            "text/plain": [
              "<Figure size 432x288 with 1 Axes>"
            ],
            "image/png": "[encoded data removed]"
          },
          "metadata": {
            "needs_background": "light"
          }
        }
      ]
    },
    {
      "cell_type": "code",
      "source": [
        "import matplotlib.pyplot as plt\n",
        "import numpy as np\n",
        "plt.axis([0,30,0,30])\n",
        "xa = 5\n",
        "ya = 15\n",
        "xb = 10\n",
        "yb = 5\n",
        "x = np.arange(30)\n",
        "plt.plot(x,x,'--o')\n",
        "plt.arrow(xa,ya,xb-xa,yb-ya,head_length = 4, head_width = 2, color = 'red')\n",
        "plt.plot([xa,xb],[ya,yb],linewidth = 10,color = 'yellow')\n",
        "plt.grid('on')\n",
        "plt.show"
      ],
      "metadata": {
        "colab": {
          "base_uri": "https://localhost:8080/",
          "height": 286
        },
        "id": "IKh3qN9EFaMx",
        "outputId": "a675f868-a006-4be4-87e7-390410260d45"
      },
      "execution_count": null,
      "outputs": [
        {
          "output_type": "execute_result",
          "data": {
            "text/plain": [
              "<function matplotlib.pyplot.show(*args, **kw)>"
            ]
          },
          "metadata": {},
          "execution_count": 77
        },
        {
          "output_type": "display_data",
          "data": {
            "text/plain": [
              "<Figure size 432x288 with 1 Axes>"
            ],
            "image/png": "[encoded data removed]"
          },
          "metadata": {
            "needs_background": "light"
          }
        }
      ]
    },
    {
      "cell_type": "code",
      "source": [
        "import matplotlib.pyplot as plt\n",
        "import numpy as np\n",
        "x = np.arange(10)\n",
        "y = np.random.rand(10)\n",
        "plt.bar(x,y, color = 'blue')\n",
        "plt.show"
      ],
      "metadata": {
        "colab": {
          "base_uri": "https://localhost:8080/",
          "height": 282
        },
        "id": "pzR2RaZ3HDKH",
        "outputId": "6c608d80-2b40-4602-ecb0-f1fd1a18cca4"
      },
      "execution_count": null,
      "outputs": [
        {
          "output_type": "execute_result",
          "data": {
            "text/plain": [
              "<function matplotlib.pyplot.show(*args, **kw)>"
            ]
          },
          "metadata": {},
          "execution_count": 79
        },
        {
          "output_type": "display_data",
          "data": {
            "text/plain": [
              "<Figure size 432x288 with 1 Axes>"
            ],
            "image/png": "[encoded data removed]"
          },
          "metadata": {
            "needs_background": "light"
          }
        }
      ]
    },
    {
      "cell_type": "code",
      "source": [
        "import matplotlib.pyplot as plt\n",
        "import numpy as np\n",
        "y = np.random.rand(3,4)\n",
        "plt.bar(x + 0, y[0])\n",
        "plt.bar(x + 0.25, y[1])\n",
        "plt.bar(x + 0.5, y[2])\n",
        "plt.show\n"
      ],
      "metadata": {
        "id": "9QwbrjaZJ8KL"
      },
      "execution_count": null,
      "outputs": []
    },
    {
      "cell_type": "code",
      "source": [
        "import matplotlib.pyplot as plt\n",
        "import numpy as np\n",
        "N = 1000\n",
        "x = np.random.rand(N)\n",
        "y = np.random.rand(N)\n",
        "colors = np.random.rand(N)\n",
        "size = 30 \n",
        "plt.scatter(x,y,s = size,c = colors,alpha = 1)\n",
        "plt.show"
      ],
      "metadata": {
        "colab": {
          "base_uri": "https://localhost:8080/",
          "height": 282
        },
        "id": "5rmMPwzxLozt",
        "outputId": "cd428337-138a-481c-cf51-31d8aa109a39"
      },
      "execution_count": null,
      "outputs": [
        {
          "output_type": "execute_result",
          "data": {
            "text/plain": [
              "<function matplotlib.pyplot.show(*args, **kw)>"
            ]
          },
          "metadata": {},
          "execution_count": 91
        },
        {
          "output_type": "display_data",
          "data": {
            "text/plain": [
              "<Figure size 432x288 with 1 Axes>"
            ],
            "image/png": "[encoded data removed]"
          },
          "metadata": {
            "needs_background": "light"
          }
        }
      ]
    },
    {
      "cell_type": "code",
      "source": [
        "pip install -U scikit-fuzzy\n"
      ],
      "metadata": {
        "colab": {
          "base_uri": "https://localhost:8080/"
        },
        "id": "IpUWOKShzJRL",
        "outputId": "df33d0ee-6974-4014-eaf5-a30ebd212435"
      },
      "execution_count": 2,
      "outputs": [
        {
          "output_type": "stream",
          "name": "stdout",
          "text": [
            "Looking in indexes: https://pypi.org/simple, https://us-python.pkg.dev/colab-wheels/public/simple/\n",
            "Collecting scikit-fuzzy\n",
            "  Downloading scikit-fuzzy-0.4.2.tar.gz (993 kB)\n",
            "\u001b[K     |████████████████████████████████| 993 kB 4.3 MB/s \n",
            "\u001b[?25hRequirement already satisfied: numpy>=1.6.0 in /usr/local/lib/python3.7/dist-packages (from scikit-fuzzy) (1.21.6)\n",
            "Requirement already satisfied: scipy>=0.9.0 in /usr/local/lib/python3.7/dist-packages (from scikit-fuzzy) (1.7.3)\n",
            "Requirement already satisfied: networkx>=1.9.0 in /usr/local/lib/python3.7/dist-packages (from scikit-fuzzy) (2.6.3)\n",
            "Building wheels for collected packages: scikit-fuzzy\n",
            "  Building wheel for scikit-fuzzy (setup.py) ... \u001b[?25l\u001b[?25hdone\n",
            "  Created wheel for scikit-fuzzy: filename=scikit_fuzzy-0.4.2-py3-none-any.whl size=894089 sha256=a4ae013f4ff284b1958f4fc0c48c43bc9701cefd65a0693e4eab9b0a534fa5c0\n",
            "  Stored in directory: /root/.cache/pip/wheels/d5/74/fc/38588a3d2e3f34f74588e6daa3aa5b0a322bd6f9420a707131\n",
            "Successfully built scikit-fuzzy\n",
            "Installing collected packages: scikit-fuzzy\n",
            "Successfully installed scikit-fuzzy-0.4.2\n"
          ]
        }
      ]
    },
    {
      "cell_type": "code",
      "source": [
        "import numpy as np\n",
        "import skfuzzy as fuzz\n",
        "x = np.arange(11)\n",
        "mfx = fuzz.trimf(x,[0,5,10])\n",
        "print(mfx)\n"
      ],
      "metadata": {
        "id": "Zcm_xhfTL4QU",
        "colab": {
          "base_uri": "https://localhost:8080/"
        },
        "outputId": "dcbf46c6-42ba-481c-b5b0-ce7233ea6fe1"
      },
      "execution_count": null,
      "outputs": [
        {
          "output_type": "stream",
          "name": "stdout",
          "text": [
            "[0.  0.2 0.4 0.6 0.8 1.  0.8 0.6 0.4 0.2 0. ]\n"
          ]
        }
      ]
    },
    {
      "cell_type": "code",
      "source": [
        "import numpy as np\n",
        "import skfuzzy as fuzz\n",
        "from skfuzzy import control as ctrl \n",
        "food = ctrl.Antecedent(np.arange(0,11,1), 'food')\n",
        "service = ctrl.Antecedent(np.arange(0,11,1), 'service')\n",
        "tip = ctrl.Antecedent(np.arange(10,28,1), 'tip')\n",
        "food['poor'] = fuzz.trimf(food.universe,[0,0,5])\n",
        "food['average'] = fuzz.trimf(food.universe,[0,5,10])\n",
        "food['good'] = fuzz.trimf(food.universe,[5,10,10])\n",
        "\n",
        "service['poor'] = fuzz.trimf(service.universe,[0,0,5])\n",
        "service['average'] = fuzz.trimf(service.universe,[0,5,10])\n",
        "service['good'] = fuzz.trimf(service.universe,[5,10,10])\n",
        "\n",
        "tip['less']= fuzz.trimf(tip.universe,[10,14,18])\n",
        "tip['normal']= fuzz.trimf(tip.universe,[14,18,22])\n",
        "tip['more']= fuzz.trimf(tip.universe,[18,22,26])\n",
        "\n",
        "\n",
        "food.view()\n",
        "service.view()\n",
        "tip.view()"
      ],
      "metadata": {
        "colab": {
          "base_uri": "https://localhost:8080/",
          "height": 809
        },
        "id": "oNMur5bR2msA",
        "outputId": "0c9c27a2-0d5d-4b79-cf90-5fb197764476"
      },
      "execution_count": null,
      "outputs": [
        {
          "output_type": "display_data",
          "data": {
            "text/plain": [
              "<Figure size 432x288 with 1 Axes>"
            ],
            "image/png": "[encoded data removed]"
          },
          "metadata": {
            "needs_background": "light"
          }
        },
        {
          "output_type": "display_data",
          "data": {
            "text/plain": [
              "<Figure size 432x288 with 1 Axes>"
            ],
            "image/png": "[encoded data removed]"
          },
          "metadata": {
            "needs_background": "light"
          }
        },
        {
          "output_type": "display_data",
          "data": {
            "text/plain": [
              "<Figure size 432x288 with 1 Axes>"
            ],
            "image/png": "[encoded data removed]"
          },
          "metadata": {
            "needs_background": "light"
          }
        }
      ]
    },
    {
      "cell_type": "code",
      "source": [
        "from numpy.lib import tracemalloc_domain\n",
        "from networkx.generators.geometric import thresholded_random_geometric_graph\n",
        "import numpy as np\n",
        "import skfuzzy as fuzz\n",
        "from skfuzzy import control as ctrl\n",
        "thresholded_random_geometric_graph\n",
        "Temp =ctrl.Antecedent(np.arange(10,111,1),'Temp')\n",
        "Wind =ctrl.Antecedent(np.arange(100,1001,1),'Wind')\n",
        "Rain =ctrl.Consequent(np.arange(0,101,1),'Rain')\n",
        "Temp['VL']=fuzz.trimf(Temp.universe,[10,10,30])\n",
        "Temp['L']=fuzz.trimf(Temp.universe,[10,30,60])\n",
        "Temp['N']=fuzz.trimf(Temp.universe,[30,60,90])\n",
        "Temp['H']=fuzz.trimf(Temp.universe,[60,90,120])\n",
        "Temp['VH']=fuzz.trimf(Temp.universe,[90,120,120])\n",
        "Wind['VL']=fuzz.trimf(Wind.universe,[100,100,300])\n",
        "Wind['L']=fuzz.trimf(Wind.universe,[100,300,500])\n",
        "Wind['N']=fuzz.trimf(Wind.universe,[300,500,700])\n",
        "Wind['H']=fuzz.trimf(Wind.universe,[500,700,1000])\n",
        "Wind['VH']=fuzz.trimf(Wind.universe,[700,1000,1000])\n",
        "Rain['VL']=fuzz.trimf(Rain.universe,[20,40,60])\n",
        "Rain['L']=fuzz.trimf(Rain.universe,[40,60,80])\n",
        "Rain['N']=fuzz.trimf(Rain.universe,[60,80,100])\n",
        "Rain['H']=fuzz.trimf(Rain.universe,[80,100,120])\n",
        "Rain['VH']=fuzz.trimf(Rain.universe,[100,120,140])\n",
        "\n",
        "rule1=ctrl.Rule(Temp['VL'] & Wind['VL'],Rain['VL'])\n",
        "rule2=ctrl.Rule(Temp['VL'] & Wind['L'],Rain['VL'])\n",
        "rule3=ctrl.Rule(Temp['VL'] & Wind['N'],Rain['L'])\n",
        "rule4=ctrl.Rule(Temp['VL'] & Wind['H'],Rain['N'])\n",
        "rule5=ctrl.Rule(Temp['VL'] & Wind['VH'],Rain['H'])\n",
        "rule6=ctrl.Rule(Temp['L'] & Wind['VL'],Rain['VL'])\n",
        "rule7=ctrl.Rule(Temp['L'] & Wind['L'],Rain['VL'])\n",
        "rule8=ctrl.Rule(Temp['L'] & Wind['N'],Rain['N'])\n",
        "rule9=ctrl.Rule(Temp['L'] & Wind['H'],Rain['N'])\n",
        "rule10=ctrl.Rule(Temp['L'] & Wind['VH'],Rain['H'])\n",
        "rule11=ctrl.Rule(Temp['N'] & Wind['VL'],Rain['L'])\n",
        "rule12=ctrl.Rule(Temp['N'] & Wind['L'],Rain['N'])\n",
        "rule13=ctrl.Rule(Temp['N'] & Wind['N'],Rain['N'])\n",
        "rule14=ctrl.Rule(Temp['N'] & Wind['H'],Rain['H'])\n",
        "rule15=ctrl.Rule(Temp['N'] & Wind['VH'],Rain['H'])\n",
        "rule16=ctrl.Rule(Temp['H'] & Wind['VL'],Rain['N'])\n",
        "rule17=ctrl.Rule(Temp['H'] & Wind['L'],Rain['H'])\n",
        "rule18=ctrl.Rule(Temp['H'] & Wind['N'],Rain['H'])\n",
        "rule19=ctrl.Rule(Temp['H'] & Wind['H'],Rain['H'])\n",
        "rule20=ctrl.Rule(Temp['H'] & Wind['VH'],Rain['VH'])\n",
        "rule21=ctrl.Rule(Temp['VH'] & Wind['VL'],Rain['H'])\n",
        "rule22=ctrl.Rule(Temp['VH'] & Wind['L'],Rain['VH'])\n",
        "rule23=ctrl.Rule(Temp['VH'] & Wind['N'],Rain['VH'])\n",
        "rule24=ctrl.Rule(Temp['VH'] & Wind['H'],Rain['VH'])\n",
        "rule25=ctrl.Rule(Temp['VH'] & Wind['VH'],Rain['VH'])\n",
        "\n",
        "raining_ctrl = ctrl.ControlSystem([rule1,rule2,rule3,rule4,rule5,rule6,rule7,rule8,rule9,rule10,rule11,rule12,rule13,rule14,rule15,rule16,rule17,rule18,rule19,rule20,rule21,rule22,rule23,rule24,rule25])\n",
        "raining = ctrl.ControlSystemSimulation(raining_ctrl)\n",
        "raining.input['Temp']=30\n",
        "raining.input['Wind']=2\n",
        "raining.compute()\n",
        "print(raining.output['Rain'])\n",
        "Rain.view(sim = raining)\n",
        "\n"
      ],
      "metadata": {
        "id": "5fWtH_Mf6nSy",
        "colab": {
          "base_uri": "https://localhost:8080/",
          "height": 298
        },
        "outputId": "b30e6042-7a8a-4c1e-a4ac-fc1932dcaa1a"
      },
      "execution_count": null,
      "outputs": [
        {
          "output_type": "stream",
          "name": "stdout",
          "text": [
            "39.99999999999999\n"
          ]
        },
        {
          "output_type": "display_data",
          "data": {
            "text/plain": [
              "<Figure size 432x288 with 1 Axes>"
            ],
            "image/png": "[encoded data removed]"
          },
          "metadata": {
            "needs_background": "light"
          }
        }
      ]
    },
    {
      "cell_type": "code",
      "source": [],
      "metadata": {
        "id": "gUnfIOIzruTd"
      },
      "execution_count": null,
      "outputs": []
    },
    {
      "cell_type": "code",
      "source": [
        "import numpy as np\n",
        "import skfuzzy as fuzz\n",
        "from skfuzzy import control as ctrl\n",
        "time = ctrl.Antecedent(np.arange(10,121,5),'time')\n",
        "rice = ctrl.Antecedent(np.arange(100,1001,5),'rice')\n",
        "power = ctrl.Consequent(np.arange(0,101,5),'power')\n",
        "time['it nhanh']=fuzz.trimf(time.universe,[10,10,40])\n",
        "time['nhanh']=fuzz.trimf(time.universe,[10,40,70])\n",
        "time['binh thuong']=fuzz.trimf(time.universe,[40,70,95])\n",
        "time['thap']=fuzz.trimf(time.universe,[70,95,120])\n",
        "time['rat thap']=fuzz.trimf(time.universe,[95,120,120])\n",
        "rice['rat it']=fuzz.trimf(rice.universe,[100,100,325])\n",
        "rice['it']=fuzz.trimf(rice.universe,[100,325,550])\n",
        "rice['binh thuong']=fuzz.trimf(rice.universe,[325,550,775])\n",
        "rice['nhieu']=fuzz.trimf(rice.universe,[550,775,1000])\n",
        "rice['rat nhieu']=fuzz.trimf(rice.universe,[775,1000,1000])\n",
        "power['rat nho']=fuzz.trimf(power.universe,[0,0,25])\n",
        "power['nho']=fuzz.trimf(power.universe,[0,25,50])\n",
        "power['binh thuong']=fuzz.trimf(power.universe,[25,50,75])\n",
        "power['lon']=fuzz.trimf(power.universe,[50,75,100])\n",
        "power['rat lon']=fuzz.trimf(power.universe,[75,100,100])\n",
        "time.view()\n",
        "rice.view()\n",
        "power.view()\n",
        "rice['binh thuong'].view()\n",
        "rule1 = ctrl.Rule(time['it nhanh']&rice['rat it'],power['rat nho'])\n",
        "rule2 = ctrl.Rule(time['it nhanh']&rice['it'],power['rat nho'])\n",
        "rule3 = ctrl.Rule(time['it nhanh']&rice['binh thuong'],power['rat nho'])\n",
        "rule4 = ctrl.Rule(time['it nhanh']&rice['nhieu'],power['nho'])\n",
        "rule5 = ctrl.Rule(time['it nhanh']&rice['rat nhieu'],power['binh thuong'])\n",
        "rule6 = ctrl.Rule(time['nhanh']&rice['rat it'],power['rat nho'])\n",
        "rule7 = ctrl.Rule(time['nhanh']&rice['it'],power['nho'])\n",
        "rule8 = ctrl.Rule(time['nhanh']&rice['binh thuong'],power['nho'])\n",
        "rule9 = ctrl.Rule(time['nhanh']&rice['nhieu'],power['binh thuong'])\n",
        "rule10 = ctrl.Rule(time['nhanh']&rice['rat nhieu'],power['lon'])\n",
        "rule11 = ctrl.Rule(time['binh thuong']&rice['rat it'],power['rat nho'])\n",
        "rule12 = ctrl.Rule(time['binh thuong']&rice['it'],power['nho'])\n",
        "rule13 = ctrl.Rule(time['binh thuong']&rice['binh thuong'],power['binh thuong'])\n",
        "rule14 = ctrl.Rule(time['binh thuong']&rice['nhieu'],power['lon'])\n",
        "rule15 = ctrl.Rule(time['binh thuong']&rice['rat nhieu'],power['rat lon'])\n",
        "rule16 = ctrl.Rule(time['thap']&rice['rat it'],power['nho'])\n",
        "rule17 = ctrl.Rule(time['thap']&rice['it'],power['binh thuong'])\n",
        "rule18 = ctrl.Rule(time['thap']&rice['binh thuong'],power['lon'])\n",
        "rule19 = ctrl.Rule(time['thap']&rice['nhieu'],power['lon'])\n",
        "rule20 = ctrl.Rule(time['thap']&rice['rat nhieu'],power['rat lon'])\n",
        "rule21 = ctrl.Rule(time['rat thap']&rice['rat it'],power['binh thuong'])\n",
        "rule22 = ctrl.Rule(time['rat thap']&rice['it'],power['lon'])\n",
        "rule23 = ctrl.Rule(time['rat thap']&rice['binh thuong'],power['rat lon'])\n",
        "rule24 = ctrl.Rule(time['rat thap']&rice['nhieu'],power['rat lon'])\n",
        "rule25 = ctrl.Rule(time['rat thap']&rice['rat nhieu'],power['rat lon'])\n",
        "powering_ctrl = ctrl.ControlSystem([rule1,rule2,rule3,rule4,rule5,rule6, rule7,rule8,rule9,rule10,rule11,rule12,rule13,rule14,rule15,rule16, rule17,rule18,rule19,rule20,rule21,rule22,rule23,rule24,rule25])\n",
        "powering = ctrl.ControlSystemSimulation(powering_ctrl)\n",
        "powering.input['time'] = 100\n",
        "powering.input['rice'] = 100\n",
        "powering.compute()\n",
        "print(powering.output['power'])\n",
        "power.view(sim=powering)"
      ],
      "metadata": {
        "colab": {
          "base_uri": "https://localhost:8080/",
          "height": 1000
        },
        "id": "QcDxmoXmrXOP",
        "outputId": "5150c60a-701f-41d9-ba79-bdd3dd985c14"
      },
      "execution_count": 3,
      "outputs": [
        {
          "output_type": "stream",
          "name": "stdout",
          "text": [
            "31.034482758620694\n"
          ]
        },
        {
          "output_type": "display_data",
          "data": {
            "text/plain": [
              "<Figure size 432x288 with 1 Axes>"
            ],
            "image/png": "[encoded data removed]"
          },
          "metadata": {
            "needs_background": "light"
          }
        },
        {
          "output_type": "display_data",
          "data": {
            "text/plain": [
              "<Figure size 432x288 with 1 Axes>"
            ],
            "image/png": "[encoded data removed]"
          },
          "metadata": {
            "needs_background": "light"
          }
        },
        {
          "output_type": "display_data",
          "data": {
            "text/plain": [
              "<Figure size 432x288 with 1 Axes>"
            ],
            "image/png": "[encoded data removed]"
          },
          "metadata": {
            "needs_background": "light"
          }
        },
        {
          "output_type": "display_data",
          "data": {
            "text/plain": [
              "<Figure size 432x288 with 1 Axes>"
            ],
            "image/png": "[encoded data removed]"
          },
          "metadata": {
            "needs_background": "light"
          }
        },
        {
          "output_type": "display_data",
          "data": {
            "text/plain": [
              "<Figure size 432x288 with 1 Axes>"
            ],
            "image/png": "[encoded data removed]"
          },
          "metadata": {
            "needs_background": "light"
          }
        }
      ]
    },
    {
      "cell_type": "code",
      "source": [
        "import numpy as np\n",
        "import pandas as pd\n",
        "import matplotlib.pyplot as plt\n",
        "import seaborn as sns\n",
        "data=pd.read_csv('Salary_Data.csv')\n",
        "x=data.drop(['Salary'],axis=True)\n",
        "y=data['Salary']\n",
        "data.head(40)\n",
        "data.shape\n",
        "from sklearn.model_selection import train_test_split\n",
        "x_train,x_test,y_train,y_test=train_test_split(x,y,test_size=0.2,random_state=42)\n",
        "x_train.shape,x_test.shape,y_train.shape,y_test.shape\n",
        "sns.pairplot(data)"
      ],
      "metadata": {
        "id": "0jzp3sUn_tWD"
      },
      "execution_count": null,
      "outputs": []
    },
    {
      "cell_type": "code",
      "source": [
        "import numpy as np\n",
        "import pandas as pd\n",
        "import matplotlib.pyplot as plt\n",
        "import seaborn as sns\n",
        "data=pd.read_csv('Salary_Data.csv')\n",
        "x=data.drop(['Salary'],axis=True)\n",
        "y=data['Salary']\n",
        "data.shape\n",
        "from sklearn.model_selection import train_test_split\n",
        "x_train,x_test,y_train,y_test=train_test_split(x,y,test_size=0.2,random_state=42)\n",
        "x_train.shape,x_test.shape,y_train.shape,y_test.shape\n",
        "sns.pairplot(data)\n",
        "data.head(40)\n"
      ],
      "metadata": {
        "id": "wPn2Zn5PA7wf"
      },
      "execution_count": null,
      "outputs": []
    },
    {
      "cell_type": "code",
      "source": [
        "plt.plot(x_train,y_train,'r.',label='train Data')\n",
        "plt.xlabel('Year Experience')\n",
        "plt.ylabel('Salary')\n",
        "plt.legend()\n",
        "plt.show()\n",
        "from sklearn.linear_model import LinearRegression\n",
        "model=LinearRegression()\n",
        "model.fit(x_train,y_train)\n",
        "y_pred=model.predict(x_test).round(1)\n",
        "cal=pd.DataFrame(np.c_[y_test,y_pred],columns=['Original Salary','Predicted Salary'])\n",
        "print('Coeffient',model.coef_)\n",
        "print('Intercept',model.intercept_)\n",
        "print('Accuracy',model.score(x_test,y_test))"
      ],
      "metadata": {
        "id": "ojuzoB_vBi1a"
      },
      "execution_count": null,
      "outputs": []
    },
    {
      "cell_type": "code",
      "source": [
        "plt.scatter(x_train,y_train,color='red')\n",
        "plt.plot(x_train,model.predict(x_train),color='blue')\n",
        "plt.title('Salary vs Experience ( Train set)')\n",
        "plt.xlabel('Years of Experience ')\n",
        "plt.ylabel('Salary')\n",
        "plt.show()"
      ],
      "metadata": {
        "id": "Lb20iAoUBqHU"
      },
      "execution_count": null,
      "outputs": []
    },
    {
      "cell_type": "code",
      "source": [
        "import numpy as np\n",
        "from sklearn.linear_model import Perceptron\n",
        "x=[[-0.5,-0.5],[-0.3,0.5],[0.3,-0.5],[-0.1,1]]\n",
        "y=[1,1,0,0]\n",
        "model=Perceptron()\n",
        "model.fit(x,y)\n",
        "print('do chinh xac',model.score(x,y))\n",
        "x_test=[[1,0.5],[0.8,-0.4],[1,0.5],[0.2,0.4]]\n",
        "y_test=model.predict(x_test)\n",
        "print(y_test)\n"
      ],
      "metadata": {
        "colab": {
          "base_uri": "https://localhost:8080/"
        },
        "id": "fABFuNy31r6C",
        "outputId": "5f36ca3b-fca0-4705-f873-da0402e81ad9"
      },
      "execution_count": null,
      "outputs": [
        {
          "output_type": "stream",
          "name": "stdout",
          "text": [
            "do chinh xac 1.0\n",
            "[0 0 0 0]\n"
          ]
        }
      ]
    },
    {
      "cell_type": "code",
      "source": [
        "import numpy as np\n",
        "from sklearn.linear_model import Perceptron\n",
        "from sklearn.model_selection import train_test_split \n",
        "import pandas as pd\n",
        "url = '/crabs.csv'\n",
        "data = pd.read_csv(url)\n",
        "x= data.drop(['speies','sex'],axis = True)\n",
        "y= data['sex']\n",
        "x_train,x_test,y_train,y_test = train_test_split(x,y,test_size = 0.3)\n",
        "x\n"
      ],
      "metadata": {
        "id": "eQXvEcWP22WF",
        "colab": {
          "base_uri": "https://localhost:8080/",
          "height": 424
        },
        "outputId": "ed4ed149-1353-42d7-d92c-e51f7cf81eaa"
      },
      "execution_count": null,
      "outputs": [
        {
          "output_type": "execute_result",
          "data": {
            "text/plain": [
              "     index  fontallip  rearwidth  length  width  depth\n",
              "0        1        8.1        6.7    16.1   19.0    7.0\n",
              "1        2        8.8        7.7    18.1   20.8    7.4\n",
              "2        3        9.2        7.8    19.0   22.4    7.7\n",
              "3        4        9.6        7.9    20.1   23.1    8.2\n",
              "4        5        9.8        8.0    20.3   23.0    8.2\n",
              "..     ...        ...        ...     ...    ...    ...\n",
              "195     46       21.4       18.0    41.2   46.2   18.7\n",
              "196     47       21.7       17.1    41.7   47.2   19.6\n",
              "197     48       21.9       17.2    42.6   47.4   19.5\n",
              "198     49       22.5       17.2    43.0   48.7   19.8\n",
              "199     50       23.1       20.2    46.2   52.5   21.1\n",
              "\n",
              "[200 rows x 6 columns]"
            ],
            "text/html": [
              "\n",
              "  <div id=\"df-6362aa27-7c41-4a2f-b7cc-0ebd1dedb2c2\">\n",
              "    <div class=\"colab-df-container\">\n",
              "      <div>\n",
              "<style scoped>\n",
              "    .dataframe tbody tr th:only-of-type {\n",
              "        vertical-align: middle;\n",
              "    }\n",
              "\n",
              "    .dataframe tbody tr th {\n",
              "        vertical-align: top;\n",
              "    }\n",
              "\n",
              "    .dataframe thead th {\n",
              "        text-align: right;\n",
              "    }\n",
              "</style>\n",
              "<table border=\"1\" class=\"dataframe\">\n",
              "  <thead>\n",
              "    <tr style=\"text-align: right;\">\n",
              "      <th></th>\n",
              "      <th>index</th>\n",
              "      <th>fontallip</th>\n",
              "      <th>rearwidth</th>\n",
              "      <th>length</th>\n",
              "      <th>width</th>\n",
              "      <th>depth</th>\n",
              "    </tr>\n",
              "  </thead>\n",
              "  <tbody>\n",
              "    <tr>\n",
              "      <th>0</th>\n",
              "      <td>1</td>\n",
              "      <td>8.1</td>\n",
              "      <td>6.7</td>\n",
              "      <td>16.1</td>\n",
              "      <td>19.0</td>\n",
              "      <td>7.0</td>\n",
              "    </tr>\n",
              "    <tr>\n",
              "      <th>1</th>\n",
              "      <td>2</td>\n",
              "      <td>8.8</td>\n",
              "      <td>7.7</td>\n",
              "      <td>18.1</td>\n",
              "      <td>20.8</td>\n",
              "      <td>7.4</td>\n",
              "    </tr>\n",
              "    <tr>\n",
              "      <th>2</th>\n",
              "      <td>3</td>\n",
              "      <td>9.2</td>\n",
              "      <td>7.8</td>\n",
              "      <td>19.0</td>\n",
              "      <td>22.4</td>\n",
              "      <td>7.7</td>\n",
              "    </tr>\n",
              "    <tr>\n",
              "      <th>3</th>\n",
              "      <td>4</td>\n",
              "      <td>9.6</td>\n",
              "      <td>7.9</td>\n",
              "      <td>20.1</td>\n",
              "      <td>23.1</td>\n",
              "      <td>8.2</td>\n",
              "    </tr>\n",
              "    <tr>\n",
              "      <th>4</th>\n",
              "      <td>5</td>\n",
              "      <td>9.8</td>\n",
              "      <td>8.0</td>\n",
              "      <td>20.3</td>\n",
              "      <td>23.0</td>\n",
              "      <td>8.2</td>\n",
              "    </tr>\n",
              "    <tr>\n",
              "      <th>...</th>\n",
              "      <td>...</td>\n",
              "      <td>...</td>\n",
              "      <td>...</td>\n",
              "      <td>...</td>\n",
              "      <td>...</td>\n",
              "      <td>...</td>\n",
              "    </tr>\n",
              "    <tr>\n",
              "      <th>195</th>\n",
              "      <td>46</td>\n",
              "      <td>21.4</td>\n",
              "      <td>18.0</td>\n",
              "      <td>41.2</td>\n",
              "      <td>46.2</td>\n",
              "      <td>18.7</td>\n",
              "    </tr>\n",
              "    <tr>\n",
              "      <th>196</th>\n",
              "      <td>47</td>\n",
              "      <td>21.7</td>\n",
              "      <td>17.1</td>\n",
              "      <td>41.7</td>\n",
              "      <td>47.2</td>\n",
              "      <td>19.6</td>\n",
              "    </tr>\n",
              "    <tr>\n",
              "      <th>197</th>\n",
              "      <td>48</td>\n",
              "      <td>21.9</td>\n",
              "      <td>17.2</td>\n",
              "      <td>42.6</td>\n",
              "      <td>47.4</td>\n",
              "      <td>19.5</td>\n",
              "    </tr>\n",
              "    <tr>\n",
              "      <th>198</th>\n",
              "      <td>49</td>\n",
              "      <td>22.5</td>\n",
              "      <td>17.2</td>\n",
              "      <td>43.0</td>\n",
              "      <td>48.7</td>\n",
              "      <td>19.8</td>\n",
              "    </tr>\n",
              "    <tr>\n",
              "      <th>199</th>\n",
              "      <td>50</td>\n",
              "      <td>23.1</td>\n",
              "      <td>20.2</td>\n",
              "      <td>46.2</td>\n",
              "      <td>52.5</td>\n",
              "      <td>21.1</td>\n",
              "    </tr>\n",
              "  </tbody>\n",
              "</table>\n",
              "<p>200 rows × 6 columns</p>\n",
              "</div>\n",
              "      <button class=\"colab-df-convert\" onclick=\"convertToInteractive('df-6362aa27-7c41-4a2f-b7cc-0ebd1dedb2c2')\"\n",
              "              title=\"Convert this dataframe to an interactive table.\"\n",
              "              style=\"display:none;\">\n",
              "        \n",
              "  <svg xmlns=\"http://www.w3.org/2000/svg\" height=\"24px\"viewBox=\"0 0 24 24\"\n",
              "       width=\"24px\">\n",
              "    <path d=\"M0 0h24v24H0V0z\" fill=\"none\"/>\n",
              "    <path d=\"M18.56 5.44l.94 2.06.94-2.06 2.06-.94-2.06-.94-.94-2.06-.94 2.06-2.06.94zm-11 1L8.5 8.5l.94-2.06 2.06-.94-2.06-.94L8.5 2.5l-.94 2.06-2.06.94zm10 10l.94 2.06.94-2.06 2.06-.94-2.06-.94-.94-2.06-.94 2.06-2.06.94z\"/><path d=\"M17.41 7.96l-1.37-1.37c-.4-.4-.92-.59-1.43-.59-.52 0-1.04.2-1.43.59L10.3 9.45l-7.72 7.72c-.78.78-.78 2.05 0 2.83L4 21.41c.39.39.9.59 1.41.59.51 0 1.02-.2 1.41-.59l7.78-7.78 2.81-2.81c.8-.78.8-2.07 0-2.86zM5.41 20L4 18.59l7.72-7.72 1.47 1.35L5.41 20z\"/>\n",
              "  </svg>\n",
              "      </button>\n",
              "      \n",
              "  <style>\n",
              "    .colab-df-container {\n",
              "      display:flex;\n",
              "      flex-wrap:wrap;\n",
              "      gap: 12px;\n",
              "    }\n",
              "\n",
              "    .colab-df-convert {\n",
              "      background-color: #E8F0FE;\n",
              "      border: none;\n",
              "      border-radius: 50%;\n",
              "      cursor: pointer;\n",
              "      display: none;\n",
              "      fill: #1967D2;\n",
              "      height: 32px;\n",
              "      padding: 0 0 0 0;\n",
              "      width: 32px;\n",
              "    }\n",
              "\n",
              "    .colab-df-convert:hover {\n",
              "      background-color: #E2EBFA;\n",
              "      box-shadow: 0px 1px 2px rgba(60, 64, 67, 0.3), 0px 1px 3px 1px rgba(60, 64, 67, 0.15);\n",
              "      fill: #174EA6;\n",
              "    }\n",
              "\n",
              "    [theme=dark] .colab-df-convert {\n",
              "      background-color: #3B4455;\n",
              "      fill: #D2E3FC;\n",
              "    }\n",
              "\n",
              "    [theme=dark] .colab-df-convert:hover {\n",
              "      background-color: #434B5C;\n",
              "      box-shadow: 0px 1px 3px 1px rgba(0, 0, 0, 0.15);\n",
              "      filter: drop-shadow(0px 1px 2px rgba(0, 0, 0, 0.3));\n",
              "      fill: #FFFFFF;\n",
              "    }\n",
              "  </style>\n",
              "\n",
              "      <script>\n",
              "        const buttonEl =\n",
              "          document.querySelector('#df-6362aa27-7c41-4a2f-b7cc-0ebd1dedb2c2 button.colab-df-convert');\n",
              "        buttonEl.style.display =\n",
              "          google.colab.kernel.accessAllowed ? 'block' : 'none';\n",
              "\n",
              "        async function convertToInteractive(key) {\n",
              "          const element = document.querySelector('#df-6362aa27-7c41-4a2f-b7cc-0ebd1dedb2c2');\n",
              "          const dataTable =\n",
              "            await google.colab.kernel.invokeFunction('convertToInteractive',\n",
              "                                                     [key], {});\n",
              "          if (!dataTable) return;\n",
              "\n",
              "          const docLinkHtml = 'Like what you see? Visit the ' +\n",
              "            '<a target=\"_blank\" href=https://colab.research.google.com/notebooks/data_table.ipynb>data table notebook</a>'\n",
              "            + ' to learn more about interactive tables.';\n",
              "          element.innerHTML = '';\n",
              "          dataTable['output_type'] = 'display_data';\n",
              "          await google.colab.output.renderOutput(dataTable, element);\n",
              "          const docLink = document.createElement('div');\n",
              "          docLink.innerHTML = docLinkHtml;\n",
              "          element.appendChild(docLink);\n",
              "        }\n",
              "      </script>\n",
              "    </div>\n",
              "  </div>\n",
              "  "
            ]
          },
          "metadata": {},
          "execution_count": 21
        }
      ]
    },
    {
      "cell_type": "code",
      "source": [
        "import pandas as pd\n",
        "import numpy as np\n",
        "from sklearn.linear_model import Perceptron\n",
        "from sklearn.model_selection import train_test_split\n",
        "\n",
        "crab = 'crabs.csv'\n",
        "crab_data = pd.read_csv(crab)\n",
        "data = (crab_data.drop('speies',axis = 1)).drop('index',axis = 1)\n",
        "\n",
        "x_train = [data['fontallip'], data['rearwidth'], data['length'], data['width'], data['depth']]\n",
        "y_train = data['sex']\n",
        "\n",
        "x = np.reshape(x_train, (200,5))\n",
        "y = np.reshape(y_train,(200))\n",
        "\n",
        "data.replace('M',0)\n",
        "data.replace('F',1)\n",
        "\n",
        "model = Perceptron()\n",
        "\n",
        "model.fit(x,y)\n",
        "\n",
        "x_test = [[11.1, 10.9 ,15.7 ,13.8, 10.4]]\n",
        "y_test = model.predict(x_test)\n",
        "\n",
        "print('Do chinh xac',model.score(x,y))\n",
        "\n"
      ],
      "metadata": {
        "id": "3-RckZsC9SsU",
        "colab": {
          "base_uri": "https://localhost:8080/"
        },
        "outputId": "51a4bcda-7d38-4685-90ff-a66fc5916f5d"
      },
      "execution_count": null,
      "outputs": [
        {
          "output_type": "stream",
          "name": "stdout",
          "text": [
            "Do chinh xac 0.5\n"
          ]
        }
      ]
    },
    {
      "cell_type": "code",
      "source": [
        "import numpy as np\n",
        "from sklearn.linear_model import Perceptron\n",
        "from sklearn.model_selection import train_test_split\n",
        "import pandas as pd\n",
        "url='/content/iris.csv'\n",
        "data= pd.read_csv(url)\n",
        "data = data[:150]\n",
        "x=data.drop(['variety'],axis = True)\n",
        "y=data['variety'].replace(['Setosa','Versicolor','Virginica'],[1,0,0])\n",
        "x_train,x_test,y_train,y_test = train_test_split(x,y,test_size=0.3)\n",
        "model=Perceptron()\n",
        "model.fit(x_train,y_train)\n",
        "print('độ chính xác',model.score(x,y))\n",
        "x_test = [[4.9,3,1.5,2],[4.6,2.9,1.7,4],[5,3.5,1.4,2]]\n",
        "y_test = model.predict(x_test)\n",
        "print(y_test)"
      ],
      "metadata": {
        "colab": {
          "base_uri": "https://localhost:8080/"
        },
        "id": "Nr2xdLwP2LOJ",
        "outputId": "e4113b59-3551-46cb-a14c-fcd653053748"
      },
      "execution_count": null,
      "outputs": [
        {
          "output_type": "stream",
          "name": "stdout",
          "text": [
            "độ chính xác 1.0\n",
            "[1 0 1]\n"
          ]
        },
        {
          "output_type": "stream",
          "name": "stderr",
          "text": [
            "/usr/local/lib/python3.7/dist-packages/sklearn/base.py:451: UserWarning: X does not have valid feature names, but Perceptron was fitted with feature names\n",
            "  \"X does not have valid feature names, but\"\n"
          ]
        }
      ]
    },
    {
      "cell_type": "code",
      "source": [
        "from keras.datasets import mnist\n",
        "(train_images,train_labels),(test_images,test_labels)=mnist.load_data()\n",
        "train_images.shape\n",
        "train_labels.shape\n",
        "test_images.shape\n",
        "test_labels.shape"
      ],
      "metadata": {
        "colab": {
          "base_uri": "https://localhost:8080/"
        },
        "id": "ylMEqqnx45KJ",
        "outputId": "a2811b72-a52b-408c-c54a-0e28e54c3ee7"
      },
      "execution_count": null,
      "outputs": [
        {
          "output_type": "execute_result",
          "data": {
            "text/plain": [
              "(10000,)"
            ]
          },
          "metadata": {},
          "execution_count": 33
        }
      ]
    },
    {
      "cell_type": "code",
      "source": [
        "import matplotlib.pyplot as plt\n",
        "plt.imshow(train_images[127])\n",
        "plt.show()\n",
        "print(train_labels[127])\n",
        "from keras import models \n",
        "from keras import layers\n",
        "model = models.Sequential()\n",
        "model.add(layers.Dense(512, activation = 'relu', input_shape = (28*28,)))\n",
        "model.add(layers.Dense(10, activation = 'softmax'))\n",
        "model.summary()"
      ],
      "metadata": {
        "colab": {
          "base_uri": "https://localhost:8080/",
          "height": 508
        },
        "id": "dobEQNu83TiZ",
        "outputId": "4582ec42-6e50-4c5e-d999-0aa779a1e171"
      },
      "execution_count": null,
      "outputs": [
        {
          "output_type": "display_data",
          "data": {
            "text/plain": [
              "<Figure size 432x288 with 1 Axes>"
            ],
            "image/png": "[encoded data removed]"
          },
          "metadata": {
            "needs_background": "light"
          }
        },
        {
          "output_type": "stream",
          "name": "stdout",
          "text": [
            "4\n",
            "Model: \"sequential_2\"\n",
            "_________________________________________________________________\n",
            " Layer (type)                Output Shape              Param #   \n",
            "=================================================================\n",
            " dense_4 (Dense)             (None, 512)               401920    \n",
            "                                                                 \n",
            " dense_5 (Dense)             (None, 10)                5130      \n",
            "                                                                 \n",
            "=================================================================\n",
            "Total params: 407,050\n",
            "Trainable params: 407,050\n",
            "Non-trainable params: 0\n",
            "_________________________________________________________________\n"
          ]
        }
      ]
    },
    {
      "cell_type": "code",
      "source": [
        "train_images = train_images.reshape((60000,28*28))\n",
        "train_images = train_images.astype(('float32'))/255\n",
        "test_images = test_images.reshape((10000,28*28))\n",
        "test_images = test_images.astype(('float32'))/255\n"
      ],
      "metadata": {
        "id": "gVTTIK2K9eky"
      },
      "execution_count": null,
      "outputs": []
    },
    {
      "cell_type": "code",
      "source": [
        "from keras.utils import to_categorical\n",
        "train_labels = to_categorical(train_labels)\n",
        "test_labels =  to_categorical(test_labels)\n",
        "train_labels.shape"
      ],
      "metadata": {
        "colab": {
          "base_uri": "https://localhost:8080/"
        },
        "id": "v0D9tiYSEy9p",
        "outputId": "da193cdd-25ad-4d73-870e-4d756ef20b33"
      },
      "execution_count": null,
      "outputs": [
        {
          "output_type": "execute_result",
          "data": {
            "text/plain": [
              "(60000, 10)"
            ]
          },
          "metadata": {},
          "execution_count": 36
        }
      ]
    },
    {
      "cell_type": "code",
      "source": [
        "model.compile(optimizer=\"rmsprop\", loss = \"categorical_crossentropy\", metrics=[\"accuracy\"])\n",
        "model.fit(train_images, train_labels, epochs=100, batch_size=128)\n"
      ],
      "metadata": {
        "colab": {
          "base_uri": "https://localhost:8080/"
        },
        "id": "Elp19mEA5lE4",
        "outputId": "a6e82dcf-0758-485a-f287-5dd94cea6f1c"
      },
      "execution_count": null,
      "outputs": [
        {
          "output_type": "stream",
          "name": "stdout",
          "text": [
            "Epoch 1/100\n",
            "469/469 [==============================] - 5s 10ms/step - loss: 0.2623 - accuracy: 0.9233\n",
            "Epoch 2/100\n",
            "469/469 [==============================] - 5s 10ms/step - loss: 0.1051 - accuracy: 0.9692\n",
            "Epoch 3/100\n",
            "469/469 [==============================] - 5s 10ms/step - loss: 0.0692 - accuracy: 0.9794\n",
            "Epoch 4/100\n",
            "469/469 [==============================] - 7s 15ms/step - loss: 0.0497 - accuracy: 0.9846\n",
            "Epoch 5/100\n",
            "469/469 [==============================] - 5s 10ms/step - loss: 0.0373 - accuracy: 0.9890\n",
            "Epoch 6/100\n",
            "469/469 [==============================] - 5s 10ms/step - loss: 0.0281 - accuracy: 0.9915\n",
            "Epoch 7/100\n",
            "469/469 [==============================] - 5s 10ms/step - loss: 0.0220 - accuracy: 0.9933\n",
            "Epoch 8/100\n",
            "469/469 [==============================] - 4s 9ms/step - loss: 0.0164 - accuracy: 0.9952\n",
            "Epoch 9/100\n",
            "469/469 [==============================] - 4s 9ms/step - loss: 0.0133 - accuracy: 0.9961\n",
            "Epoch 10/100\n",
            "469/469 [==============================] - 4s 10ms/step - loss: 0.0095 - accuracy: 0.9973\n",
            "Epoch 11/100\n",
            "469/469 [==============================] - 5s 11ms/step - loss: 0.0075 - accuracy: 0.9980\n",
            "Epoch 12/100\n",
            "469/469 [==============================] - 4s 9ms/step - loss: 0.0060 - accuracy: 0.9984\n",
            "Epoch 13/100\n",
            "469/469 [==============================] - 5s 10ms/step - loss: 0.0047 - accuracy: 0.9987\n",
            "Epoch 14/100\n",
            "469/469 [==============================] - 5s 10ms/step - loss: 0.0038 - accuracy: 0.9990\n",
            "Epoch 15/100\n",
            "469/469 [==============================] - 5s 11ms/step - loss: 0.0031 - accuracy: 0.9992\n",
            "Epoch 16/100\n",
            "469/469 [==============================] - 5s 11ms/step - loss: 0.0021 - accuracy: 0.9994\n",
            "Epoch 17/100\n",
            "469/469 [==============================] - 5s 12ms/step - loss: 0.0020 - accuracy: 0.9995\n",
            "Epoch 18/100\n",
            "469/469 [==============================] - 5s 10ms/step - loss: 0.0016 - accuracy: 0.9996\n",
            "Epoch 19/100\n",
            "469/469 [==============================] - 5s 10ms/step - loss: 0.0012 - accuracy: 0.9997\n",
            "Epoch 20/100\n",
            "469/469 [==============================] - 5s 10ms/step - loss: 0.0010 - accuracy: 0.9997\n",
            "Epoch 21/100\n",
            "469/469 [==============================] - 5s 10ms/step - loss: 6.4757e-04 - accuracy: 0.9998\n",
            "Epoch 22/100\n",
            "469/469 [==============================] - 5s 10ms/step - loss: 7.0513e-04 - accuracy: 0.9998\n",
            "Epoch 23/100\n",
            "469/469 [==============================] - 5s 11ms/step - loss: 5.3424e-04 - accuracy: 0.9999\n",
            "Epoch 24/100\n",
            "469/469 [==============================] - 5s 11ms/step - loss: 5.1601e-04 - accuracy: 0.9998\n",
            "Epoch 25/100\n",
            "469/469 [==============================] - 5s 10ms/step - loss: 3.1682e-04 - accuracy: 0.9999\n",
            "Epoch 26/100\n",
            "469/469 [==============================] - 5s 10ms/step - loss: 1.6028e-04 - accuracy: 1.0000\n",
            "Epoch 27/100\n",
            "469/469 [==============================] - 5s 11ms/step - loss: 2.3420e-04 - accuracy: 0.9999\n",
            "Epoch 28/100\n",
            "469/469 [==============================] - 5s 10ms/step - loss: 1.6785e-04 - accuracy: 0.9999\n",
            "Epoch 29/100\n",
            "469/469 [==============================] - 4s 10ms/step - loss: 8.8495e-05 - accuracy: 1.0000\n",
            "Epoch 30/100\n",
            "469/469 [==============================] - 5s 10ms/step - loss: 1.9903e-04 - accuracy: 0.9999\n",
            "Epoch 31/100\n",
            "469/469 [==============================] - 5s 10ms/step - loss: 1.4416e-04 - accuracy: 0.9999\n",
            "Epoch 32/100\n",
            "469/469 [==============================] - 5s 10ms/step - loss: 9.1691e-05 - accuracy: 1.0000\n",
            "Epoch 33/100\n",
            "469/469 [==============================] - 5s 10ms/step - loss: 8.7429e-05 - accuracy: 1.0000\n",
            "Epoch 34/100\n",
            "469/469 [==============================] - 4s 9ms/step - loss: 2.7721e-05 - accuracy: 1.0000\n",
            "Epoch 35/100\n",
            "469/469 [==============================] - 5s 10ms/step - loss: 4.0323e-05 - accuracy: 1.0000\n",
            "Epoch 36/100\n",
            "469/469 [==============================] - 4s 10ms/step - loss: 2.1714e-05 - accuracy: 1.0000\n",
            "Epoch 37/100\n",
            "469/469 [==============================] - 5s 10ms/step - loss: 2.5214e-05 - accuracy: 1.0000\n",
            "Epoch 38/100\n",
            "469/469 [==============================] - 5s 10ms/step - loss: 1.8577e-05 - accuracy: 1.0000\n",
            "Epoch 39/100\n",
            "469/469 [==============================] - 5s 10ms/step - loss: 4.1157e-06 - accuracy: 1.0000\n",
            "Epoch 40/100\n",
            "469/469 [==============================] - 5s 10ms/step - loss: 8.4921e-05 - accuracy: 1.0000\n",
            "Epoch 41/100\n",
            "469/469 [==============================] - 4s 10ms/step - loss: 3.3917e-05 - accuracy: 1.0000\n",
            "Epoch 42/100\n",
            "469/469 [==============================] - 4s 9ms/step - loss: 4.9233e-07 - accuracy: 1.0000\n",
            "Epoch 43/100\n",
            "469/469 [==============================] - 4s 9ms/step - loss: 2.3214e-05 - accuracy: 1.0000\n",
            "Epoch 44/100\n",
            "469/469 [==============================] - 5s 10ms/step - loss: 6.9396e-08 - accuracy: 1.0000\n",
            "Epoch 45/100\n",
            "469/469 [==============================] - 5s 10ms/step - loss: 3.0579e-08 - accuracy: 1.0000\n",
            "Epoch 46/100\n",
            "469/469 [==============================] - 5s 10ms/step - loss: 2.3560e-08 - accuracy: 1.0000\n",
            "Epoch 47/100\n",
            "469/469 [==============================] - 5s 10ms/step - loss: 1.9397e-08 - accuracy: 1.0000\n",
            "Epoch 48/100\n",
            "469/469 [==============================] - 5s 11ms/step - loss: 1.7351e-08 - accuracy: 1.0000\n",
            "Epoch 49/100\n",
            "469/469 [==============================] - 4s 10ms/step - loss: 1.5992e-08 - accuracy: 1.0000\n",
            "Epoch 50/100\n",
            "469/469 [==============================] - 5s 10ms/step - loss: 1.4597e-08 - accuracy: 1.0000\n",
            "Epoch 51/100\n",
            "469/469 [==============================] - 5s 10ms/step - loss: 1.3852e-08 - accuracy: 1.0000\n",
            "Epoch 52/100\n",
            "469/469 [==============================] - 5s 10ms/step - loss: 1.2890e-08 - accuracy: 1.0000\n",
            "Epoch 53/100\n",
            "469/469 [==============================] - 5s 10ms/step - loss: 1.2189e-08 - accuracy: 1.0000\n",
            "Epoch 54/100\n",
            "469/469 [==============================] - 5s 11ms/step - loss: 1.1593e-08 - accuracy: 1.0000\n",
            "Epoch 55/100\n",
            "469/469 [==============================] - 4s 9ms/step - loss: 1.1081e-08 - accuracy: 1.0000\n",
            "Epoch 56/100\n",
            "469/469 [==============================] - 5s 10ms/step - loss: 1.0622e-08 - accuracy: 1.0000\n",
            "Epoch 57/100\n",
            "469/469 [==============================] - 5s 10ms/step - loss: 1.0161e-08 - accuracy: 1.0000\n",
            "Epoch 58/100\n",
            "469/469 [==============================] - 5s 10ms/step - loss: 9.7831e-09 - accuracy: 1.0000\n",
            "Epoch 59/100\n",
            "469/469 [==============================] - 5s 10ms/step - loss: 9.4116e-09 - accuracy: 1.0000\n",
            "Epoch 60/100\n",
            "469/469 [==============================] - 4s 9ms/step - loss: 9.0539e-09 - accuracy: 1.0000\n",
            "Epoch 61/100\n",
            "469/469 [==============================] - 4s 9ms/step - loss: 8.8274e-09 - accuracy: 1.0000\n",
            "Epoch 62/100\n",
            "469/469 [==============================] - 5s 10ms/step - loss: 8.5632e-09 - accuracy: 1.0000\n",
            "Epoch 63/100\n",
            "469/469 [==============================] - 5s 10ms/step - loss: 8.3049e-09 - accuracy: 1.0000\n",
            "Epoch 64/100\n",
            "469/469 [==============================] - 5s 11ms/step - loss: 8.0387e-09 - accuracy: 1.0000\n",
            "Epoch 65/100\n",
            "469/469 [==============================] - 5s 10ms/step - loss: 7.8519e-09 - accuracy: 1.0000\n",
            "Epoch 66/100\n",
            "469/469 [==============================] - 5s 11ms/step - loss: 7.5658e-09 - accuracy: 1.0000\n",
            "Epoch 67/100\n",
            "469/469 [==============================] - 5s 10ms/step - loss: 7.4585e-09 - accuracy: 1.0000\n",
            "Epoch 68/100\n",
            "469/469 [==============================] - 5s 10ms/step - loss: 7.2678e-09 - accuracy: 1.0000\n",
            "Epoch 69/100\n",
            "469/469 [==============================] - 4s 10ms/step - loss: 7.1049e-09 - accuracy: 1.0000\n",
            "Epoch 70/100\n",
            "469/469 [==============================] - 4s 10ms/step - loss: 6.9280e-09 - accuracy: 1.0000\n",
            "Epoch 71/100\n",
            "469/469 [==============================] - 7s 15ms/step - loss: 6.8148e-09 - accuracy: 1.0000\n",
            "Epoch 72/100\n",
            "469/469 [==============================] - 4s 9ms/step - loss: 6.7294e-09 - accuracy: 1.0000\n",
            "Epoch 73/100\n",
            "469/469 [==============================] - 5s 10ms/step - loss: 6.4830e-09 - accuracy: 1.0000\n",
            "Epoch 74/100\n",
            "469/469 [==============================] - 4s 9ms/step - loss: 6.4373e-09 - accuracy: 1.0000\n",
            "Epoch 75/100\n",
            "469/469 [==============================] - 5s 10ms/step - loss: 6.3658e-09 - accuracy: 1.0000\n",
            "Epoch 76/100\n",
            "469/469 [==============================] - 5s 10ms/step - loss: 6.2307e-09 - accuracy: 1.0000\n",
            "Epoch 77/100\n",
            "469/469 [==============================] - 5s 10ms/step - loss: 6.1433e-09 - accuracy: 1.0000\n",
            "Epoch 78/100\n",
            "469/469 [==============================] - 5s 10ms/step - loss: 6.0836e-09 - accuracy: 1.0000\n",
            "Epoch 79/100\n",
            "469/469 [==============================] - 5s 10ms/step - loss: 5.9704e-09 - accuracy: 1.0000\n",
            "Epoch 80/100\n",
            "469/469 [==============================] - 5s 10ms/step - loss: 5.8850e-09 - accuracy: 1.0000\n",
            "Epoch 81/100\n",
            "469/469 [==============================] - 5s 10ms/step - loss: 5.8293e-09 - accuracy: 1.0000\n",
            "Epoch 82/100\n",
            "469/469 [==============================] - 5s 10ms/step - loss: 5.7777e-09 - accuracy: 1.0000\n",
            "Epoch 83/100\n",
            "469/469 [==============================] - 5s 10ms/step - loss: 5.6247e-09 - accuracy: 1.0000\n",
            "Epoch 84/100\n",
            "469/469 [==============================] - 5s 10ms/step - loss: 5.5571e-09 - accuracy: 1.0000\n",
            "Epoch 85/100\n",
            "469/469 [==============================] - 5s 10ms/step - loss: 5.5313e-09 - accuracy: 1.0000\n",
            "Epoch 86/100\n",
            "469/469 [==============================] - 5s 10ms/step - loss: 5.5234e-09 - accuracy: 1.0000\n",
            "Epoch 87/100\n",
            "469/469 [==============================] - 4s 10ms/step - loss: 5.4499e-09 - accuracy: 1.0000\n",
            "Epoch 88/100\n",
            "469/469 [==============================] - 5s 10ms/step - loss: 5.3485e-09 - accuracy: 1.0000\n",
            "Epoch 89/100\n",
            "469/469 [==============================] - 5s 10ms/step - loss: 5.3346e-09 - accuracy: 1.0000\n",
            "Epoch 90/100\n",
            "469/469 [==============================] - 4s 9ms/step - loss: 5.2929e-09 - accuracy: 1.0000\n",
            "Epoch 91/100\n",
            "469/469 [==============================] - 5s 10ms/step - loss: 5.2194e-09 - accuracy: 1.0000\n",
            "Epoch 92/100\n",
            "469/469 [==============================] - 5s 10ms/step - loss: 5.1876e-09 - accuracy: 1.0000\n",
            "Epoch 93/100\n",
            "469/469 [==============================] - 4s 10ms/step - loss: 5.1657e-09 - accuracy: 1.0000\n",
            "Epoch 94/100\n",
            "469/469 [==============================] - 5s 10ms/step - loss: 5.1181e-09 - accuracy: 1.0000\n",
            "Epoch 95/100\n",
            "469/469 [==============================] - 5s 10ms/step - loss: 5.0545e-09 - accuracy: 1.0000\n",
            "Epoch 96/100\n",
            "469/469 [==============================] - 5s 10ms/step - loss: 5.0485e-09 - accuracy: 1.0000\n",
            "Epoch 97/100\n",
            "469/469 [==============================] - 5s 10ms/step - loss: 5.0028e-09 - accuracy: 1.0000\n",
            "Epoch 98/100\n",
            "469/469 [==============================] - 5s 10ms/step - loss: 4.9293e-09 - accuracy: 1.0000\n",
            "Epoch 99/100\n",
            "469/469 [==============================] - 5s 10ms/step - loss: 4.9174e-09 - accuracy: 1.0000\n",
            "Epoch 100/100\n",
            "469/469 [==============================] - 5s 10ms/step - loss: 4.8737e-09 - accuracy: 1.0000\n"
          ]
        },
        {
          "output_type": "execute_result",
          "data": {
            "text/plain": [
              "<keras.callbacks.History at 0x7f109685fdd0>"
            ]
          },
          "metadata": {},
          "execution_count": 37
        }
      ]
    },
    {
      "cell_type": "code",
      "source": [
        "test_loss, test_ace = model.evaluate(test_images, test_labels)\n",
        "print('Test accuracy', test_ace)"
      ],
      "metadata": {
        "colab": {
          "base_uri": "https://localhost:8080/"
        },
        "id": "Dqraet0lFnu3",
        "outputId": "46702352-7be4-479b-a93e-5a200a6330c5"
      },
      "execution_count": null,
      "outputs": [
        {
          "output_type": "stream",
          "name": "stdout",
          "text": [
            "313/313 [==============================] - 1s 3ms/step - loss: 0.1574 - accuracy: 0.9828\n",
            "Test accuracy 0.9828000068664551\n"
          ]
        }
      ]
    },
    {
      "cell_type": "code",
      "source": [
        "from keras.datasets import fashion_mnist\n",
        "(X_train, y_train),(X_test, y_test) = fashion_mnist.load_data()\n"
      ],
      "metadata": {
        "id": "3vuim4t4Gy0A"
      },
      "execution_count": null,
      "outputs": []
    },
    {
      "cell_type": "code",
      "source": [
        "import matplotlib.pyplot as plt\n",
        "class_name = ['Tshirt/Top', 'Trousers', 'Pullover', 'Dress', 'Coat', 'Sandal', 'Shirt','Sneaker']\n",
        "plt.imshow(X_train[200])\n",
        "plt.show()\n"
      ],
      "metadata": {
        "colab": {
          "base_uri": "https://localhost:8080/",
          "height": 265
        },
        "id": "wWrSUIf6nw57",
        "outputId": "42a74796-9c1d-40a9-ee14-c6e590116cea"
      },
      "execution_count": null,
      "outputs": [
        {
          "output_type": "display_data",
          "data": {
            "text/plain": [
              "<Figure size 432x288 with 1 Axes>"
            ],
            "image/png": "[encoded data removed]"
          },
          "metadata": {
            "needs_background": "light"
          }
        }
      ]
    },
    {
      "cell_type": "code",
      "source": [
        "from keras.datasets import mnist\n",
        "(train_x, train_y), (test_x, test_y) = mnist.load_data()\n",
        "train_x.shape\n",
        "train_y.shape\n",
        "test_x.shape\n",
        "test_y.shape"
      ],
      "metadata": {
        "colab": {
          "base_uri": "https://localhost:8080/"
        },
        "id": "_hSqtOF2o2iT",
        "outputId": "353c5112-9268-4f3e-8398-1bd0ac38bacd"
      },
      "execution_count": null,
      "outputs": [
        {
          "output_type": "execute_result",
          "data": {
            "text/plain": [
              "(10000,)"
            ]
          },
          "metadata": {},
          "execution_count": 19
        }
      ]
    },
    {
      "cell_type": "code",
      "source": [
        "import matplotlib.pyplot as plt\n",
        "plt.imshow(train_x[5])\n",
        "plt.show()\n",
        "print(train_y[5])"
      ],
      "metadata": {
        "colab": {
          "base_uri": "https://localhost:8080/",
          "height": 282
        },
        "id": "8dTsYDmLpFJn",
        "outputId": "278d8060-88f3-4887-dacc-8dc138ef0eda"
      },
      "execution_count": null,
      "outputs": [
        {
          "output_type": "display_data",
          "data": {
            "text/plain": [
              "<Figure size 432x288 with 1 Axes>"
            ],
            "image/png": "[encoded data removed]"
          },
          "metadata": {
            "needs_background": "light"
          }
        },
        {
          "output_type": "stream",
          "name": "stdout",
          "text": [
            "2\n"
          ]
        }
      ]
    },
    {
      "cell_type": "code",
      "source": [
        "from keras import models\n",
        "from keras.layers.serialization import activation\n",
        "from keras import layers\n",
        "model = models.Sequential()\n",
        "model.add(layers.Dense(521,activation = 'relu', input_shape = (28*28,)))\n",
        "model.add(layers.Dense(10,activation = \"softmax\"))\n",
        "model.summary()"
      ],
      "metadata": {
        "colab": {
          "base_uri": "https://localhost:8080/"
        },
        "id": "hnxZgg95pJQc",
        "outputId": "17699a81-d9ed-48f9-90fd-8e067208c7bc"
      },
      "execution_count": null,
      "outputs": [
        {
          "output_type": "stream",
          "name": "stdout",
          "text": [
            "Model: \"sequential_1\"\n",
            "_________________________________________________________________\n",
            " Layer (type)                Output Shape              Param #   \n",
            "=================================================================\n",
            " dense_2 (Dense)             (None, 521)               408985    \n",
            "                                                                 \n",
            " dense_3 (Dense)             (None, 10)                5220      \n",
            "                                                                 \n",
            "=================================================================\n",
            "Total params: 414,205\n",
            "Trainable params: 414,205\n",
            "Non-trainable params: 0\n",
            "_________________________________________________________________\n"
          ]
        }
      ]
    },
    {
      "cell_type": "code",
      "source": [
        "train_x=train_x.reshape((60000,28*28))\n",
        "train_x=train_x.astype('float32')/255\n",
        "test_x=test_x.reshape((10000,28*28))\n",
        "test_x=test_x.astype(('float32'))/255"
      ],
      "metadata": {
        "id": "bcD76qtmpJyx"
      },
      "execution_count": null,
      "outputs": []
    },
    {
      "cell_type": "code",
      "source": [
        "train_x.shape\n",
        "test_x.shape"
      ],
      "metadata": {
        "colab": {
          "base_uri": "https://localhost:8080/"
        },
        "id": "YRg2Sd9upSzW",
        "outputId": "019434cb-2c33-4309-ab83-4bcdc3f20605"
      },
      "execution_count": null,
      "outputs": [
        {
          "output_type": "execute_result",
          "data": {
            "text/plain": [
              "(10000, 784)"
            ]
          },
          "metadata": {},
          "execution_count": 23
        }
      ]
    },
    {
      "cell_type": "code",
      "source": [
        "from keras.utils import to_categorical\n",
        "train_y = to_categorical(train_y)\n",
        "test_y = to_categorical(test_y)\n",
        "train_y.shape\n",
        "test_y.shape"
      ],
      "metadata": {
        "colab": {
          "base_uri": "https://localhost:8080/"
        },
        "id": "kVEvAUR-pW4s",
        "outputId": "11e4c1b4-e439-4521-8ce4-eed0427d602e"
      },
      "execution_count": null,
      "outputs": [
        {
          "output_type": "execute_result",
          "data": {
            "text/plain": [
              "(10000, 10)"
            ]
          },
          "metadata": {},
          "execution_count": 24
        }
      ]
    },
    {
      "cell_type": "code",
      "source": [
        "model.compile(optimizer='rmsprop', loss='categorical_crossentropy', metrics= ['accuracy'])\n",
        "model.fit(train_x, train_y, epochs = 100, batch_size= 128)"
      ],
      "metadata": {
        "colab": {
          "base_uri": "https://localhost:8080/"
        },
        "id": "P1yJK3cFpaoy",
        "outputId": "b6fbfd97-ee80-482c-ced0-ef28edcdaffd"
      },
      "execution_count": null,
      "outputs": [
        {
          "output_type": "stream",
          "name": "stdout",
          "text": [
            "Epoch 1/100\n",
            "469/469 [==============================] - 5s 10ms/step - loss: 0.2552 - accuracy: 0.9266\n",
            "Epoch 2/100\n",
            "469/469 [==============================] - 5s 10ms/step - loss: 0.1034 - accuracy: 0.9691\n",
            "Epoch 3/100\n",
            "469/469 [==============================] - 5s 11ms/step - loss: 0.0677 - accuracy: 0.9797\n",
            "Epoch 4/100\n",
            "469/469 [==============================] - 5s 10ms/step - loss: 0.0496 - accuracy: 0.9855\n",
            "Epoch 5/100\n",
            "469/469 [==============================] - 5s 10ms/step - loss: 0.0370 - accuracy: 0.9890\n",
            "Epoch 6/100\n",
            "469/469 [==============================] - 5s 10ms/step - loss: 0.0286 - accuracy: 0.9909\n",
            "Epoch 7/100\n",
            "469/469 [==============================] - 5s 10ms/step - loss: 0.0225 - accuracy: 0.9931\n",
            "Epoch 8/100\n",
            "469/469 [==============================] - 5s 10ms/step - loss: 0.0166 - accuracy: 0.9950\n",
            "Epoch 9/100\n",
            "469/469 [==============================] - 5s 10ms/step - loss: 0.0128 - accuracy: 0.9963\n",
            "Epoch 10/100\n",
            "469/469 [==============================] - 5s 10ms/step - loss: 0.0100 - accuracy: 0.9972\n",
            "Epoch 11/100\n",
            "469/469 [==============================] - 5s 10ms/step - loss: 0.0077 - accuracy: 0.9979\n",
            "Epoch 12/100\n",
            "469/469 [==============================] - 9s 18ms/step - loss: 0.0059 - accuracy: 0.9983\n",
            "Epoch 13/100\n",
            "469/469 [==============================] - 5s 10ms/step - loss: 0.0046 - accuracy: 0.9988\n",
            "Epoch 14/100\n",
            "469/469 [==============================] - 5s 10ms/step - loss: 0.0038 - accuracy: 0.9989\n",
            "Epoch 15/100\n",
            "469/469 [==============================] - 5s 10ms/step - loss: 0.0029 - accuracy: 0.9992\n",
            "Epoch 16/100\n",
            "469/469 [==============================] - 6s 14ms/step - loss: 0.0021 - accuracy: 0.9995\n",
            "Epoch 17/100\n",
            "469/469 [==============================] - 5s 10ms/step - loss: 0.0020 - accuracy: 0.9995\n",
            "Epoch 18/100\n",
            "469/469 [==============================] - 5s 10ms/step - loss: 0.0014 - accuracy: 0.9997\n",
            "Epoch 19/100\n",
            "469/469 [==============================] - 5s 10ms/step - loss: 0.0011 - accuracy: 0.9997\n",
            "Epoch 20/100\n",
            "469/469 [==============================] - 5s 10ms/step - loss: 9.2648e-04 - accuracy: 0.9998\n",
            "Epoch 21/100\n",
            "469/469 [==============================] - 5s 10ms/step - loss: 7.5526e-04 - accuracy: 0.9998\n",
            "Epoch 22/100\n",
            "469/469 [==============================] - 5s 10ms/step - loss: 5.3978e-04 - accuracy: 0.9999\n",
            "Epoch 23/100\n",
            "469/469 [==============================] - 5s 10ms/step - loss: 4.2638e-04 - accuracy: 0.9999\n",
            "Epoch 24/100\n",
            "469/469 [==============================] - 5s 10ms/step - loss: 4.3940e-04 - accuracy: 0.9998\n",
            "Epoch 25/100\n",
            "469/469 [==============================] - 5s 10ms/step - loss: 3.0983e-04 - accuracy: 0.9999\n",
            "Epoch 26/100\n",
            "469/469 [==============================] - 5s 10ms/step - loss: 3.2792e-04 - accuracy: 0.9999\n",
            "Epoch 27/100\n",
            "469/469 [==============================] - 5s 11ms/step - loss: 2.7922e-04 - accuracy: 0.9999\n",
            "Epoch 28/100\n",
            "469/469 [==============================] - 5s 10ms/step - loss: 2.6842e-04 - accuracy: 0.9999\n",
            "Epoch 29/100\n",
            "469/469 [==============================] - 5s 10ms/step - loss: 1.7485e-04 - accuracy: 0.9999\n",
            "Epoch 30/100\n",
            "469/469 [==============================] - 5s 10ms/step - loss: 1.1910e-04 - accuracy: 1.0000\n",
            "Epoch 31/100\n",
            "469/469 [==============================] - 5s 10ms/step - loss: 1.0738e-04 - accuracy: 0.9999\n",
            "Epoch 32/100\n",
            "469/469 [==============================] - 5s 10ms/step - loss: 6.0691e-05 - accuracy: 1.0000\n",
            "Epoch 33/100\n",
            "469/469 [==============================] - 5s 10ms/step - loss: 7.9673e-05 - accuracy: 1.0000\n",
            "Epoch 34/100\n",
            "469/469 [==============================] - 5s 11ms/step - loss: 8.4642e-05 - accuracy: 1.0000\n",
            "Epoch 35/100\n",
            "469/469 [==============================] - 5s 10ms/step - loss: 3.2762e-05 - accuracy: 1.0000\n",
            "Epoch 36/100\n",
            "469/469 [==============================] - 5s 10ms/step - loss: 2.2744e-05 - accuracy: 1.0000\n",
            "Epoch 37/100\n",
            "469/469 [==============================] - 5s 10ms/step - loss: 1.2892e-05 - accuracy: 1.0000\n",
            "Epoch 38/100\n",
            "469/469 [==============================] - 5s 10ms/step - loss: 1.8551e-05 - accuracy: 1.0000\n",
            "Epoch 39/100\n",
            "469/469 [==============================] - 5s 10ms/step - loss: 2.4863e-05 - accuracy: 1.0000\n",
            "Epoch 40/100\n",
            "469/469 [==============================] - 5s 10ms/step - loss: 9.6475e-05 - accuracy: 1.0000\n",
            "Epoch 41/100\n",
            "469/469 [==============================] - 5s 10ms/step - loss: 3.9617e-06 - accuracy: 1.0000\n",
            "Epoch 42/100\n",
            "469/469 [==============================] - 5s 10ms/step - loss: 3.0888e-06 - accuracy: 1.0000\n",
            "Epoch 43/100\n",
            "469/469 [==============================] - 5s 10ms/step - loss: 1.8568e-07 - accuracy: 1.0000\n",
            "Epoch 44/100\n",
            "469/469 [==============================] - 5s 10ms/step - loss: 5.3299e-08 - accuracy: 1.0000\n",
            "Epoch 45/100\n",
            "469/469 [==============================] - 5s 10ms/step - loss: 2.7623e-08 - accuracy: 1.0000\n",
            "Epoch 46/100\n",
            "469/469 [==============================] - 5s 11ms/step - loss: 2.2658e-08 - accuracy: 1.0000\n",
            "Epoch 47/100\n",
            "469/469 [==============================] - 5s 10ms/step - loss: 1.8891e-08 - accuracy: 1.0000\n",
            "Epoch 48/100\n",
            "469/469 [==============================] - 5s 10ms/step - loss: 1.6852e-08 - accuracy: 1.0000\n",
            "Epoch 49/100\n",
            "469/469 [==============================] - 5s 10ms/step - loss: 1.5664e-08 - accuracy: 1.0000\n",
            "Epoch 50/100\n",
            "469/469 [==============================] - 5s 10ms/step - loss: 1.4597e-08 - accuracy: 1.0000\n",
            "Epoch 51/100\n",
            "469/469 [==============================] - 5s 10ms/step - loss: 1.3677e-08 - accuracy: 1.0000\n",
            "Epoch 52/100\n",
            "469/469 [==============================] - 5s 10ms/step - loss: 1.2807e-08 - accuracy: 1.0000\n",
            "Epoch 53/100\n",
            "469/469 [==============================] - 5s 10ms/step - loss: 1.2191e-08 - accuracy: 1.0000\n",
            "Epoch 54/100\n",
            "469/469 [==============================] - 5s 10ms/step - loss: 1.1593e-08 - accuracy: 1.0000\n",
            "Epoch 55/100\n",
            "469/469 [==============================] - 5s 10ms/step - loss: 1.0961e-08 - accuracy: 1.0000\n",
            "Epoch 56/100\n",
            "469/469 [==============================] - 5s 10ms/step - loss: 1.0582e-08 - accuracy: 1.0000\n",
            "Epoch 57/100\n",
            "469/469 [==============================] - 5s 10ms/step - loss: 1.0125e-08 - accuracy: 1.0000\n",
            "Epoch 58/100\n",
            "469/469 [==============================] - 5s 10ms/step - loss: 9.6858e-09 - accuracy: 1.0000\n",
            "Epoch 59/100\n",
            "469/469 [==============================] - 5s 12ms/step - loss: 9.3718e-09 - accuracy: 1.0000\n",
            "Epoch 60/100\n",
            "469/469 [==============================] - 5s 10ms/step - loss: 9.0321e-09 - accuracy: 1.0000\n",
            "Epoch 61/100\n",
            "469/469 [==============================] - 5s 10ms/step - loss: 8.7778e-09 - accuracy: 1.0000\n",
            "Epoch 62/100\n",
            "469/469 [==============================] - 5s 11ms/step - loss: 8.4619e-09 - accuracy: 1.0000\n",
            "Epoch 63/100\n",
            "469/469 [==============================] - 5s 10ms/step - loss: 8.1082e-09 - accuracy: 1.0000\n",
            "Epoch 64/100\n",
            "469/469 [==============================] - 5s 11ms/step - loss: 7.9989e-09 - accuracy: 1.0000\n",
            "Epoch 65/100\n",
            "469/469 [==============================] - 5s 10ms/step - loss: 7.7844e-09 - accuracy: 1.0000\n",
            "Epoch 66/100\n",
            "469/469 [==============================] - 5s 10ms/step - loss: 7.5360e-09 - accuracy: 1.0000\n",
            "Epoch 67/100\n",
            "469/469 [==============================] - 6s 12ms/step - loss: 7.3453e-09 - accuracy: 1.0000\n",
            "Epoch 68/100\n",
            "469/469 [==============================] - 5s 11ms/step - loss: 7.2102e-09 - accuracy: 1.0000\n",
            "Epoch 69/100\n",
            "469/469 [==============================] - 5s 11ms/step - loss: 6.9996e-09 - accuracy: 1.0000\n",
            "Epoch 70/100\n",
            "469/469 [==============================] - 5s 11ms/step - loss: 6.8148e-09 - accuracy: 1.0000\n",
            "Epoch 71/100\n",
            "469/469 [==============================] - 5s 11ms/step - loss: 6.6857e-09 - accuracy: 1.0000\n",
            "Epoch 72/100\n",
            "469/469 [==============================] - 6s 12ms/step - loss: 6.5923e-09 - accuracy: 1.0000\n",
            "Epoch 73/100\n",
            "469/469 [==============================] - 5s 11ms/step - loss: 6.4075e-09 - accuracy: 1.0000\n",
            "Epoch 74/100\n",
            "469/469 [==============================] - 5s 11ms/step - loss: 6.3022e-09 - accuracy: 1.0000\n",
            "Epoch 75/100\n",
            "469/469 [==============================] - 5s 10ms/step - loss: 6.1909e-09 - accuracy: 1.0000\n",
            "Epoch 76/100\n",
            "469/469 [==============================] - 7s 15ms/step - loss: 6.0717e-09 - accuracy: 1.0000\n",
            "Epoch 77/100\n",
            "469/469 [==============================] - 6s 12ms/step - loss: 5.9664e-09 - accuracy: 1.0000\n",
            "Epoch 78/100\n",
            "469/469 [==============================] - 5s 10ms/step - loss: 5.8830e-09 - accuracy: 1.0000\n",
            "Epoch 79/100\n",
            "469/469 [==============================] - 6s 12ms/step - loss: 5.7896e-09 - accuracy: 1.0000\n",
            "Epoch 80/100\n",
            "469/469 [==============================] - 5s 10ms/step - loss: 5.6803e-09 - accuracy: 1.0000\n",
            "Epoch 81/100\n",
            "469/469 [==============================] - 5s 10ms/step - loss: 5.6128e-09 - accuracy: 1.0000\n",
            "Epoch 82/100\n",
            "469/469 [==============================] - 5s 10ms/step - loss: 5.5532e-09 - accuracy: 1.0000\n",
            "Epoch 83/100\n",
            "469/469 [==============================] - 5s 10ms/step - loss: 5.4657e-09 - accuracy: 1.0000\n",
            "Epoch 84/100\n",
            "469/469 [==============================] - 5s 11ms/step - loss: 5.3863e-09 - accuracy: 1.0000\n",
            "Epoch 85/100\n",
            "469/469 [==============================] - 5s 10ms/step - loss: 5.3088e-09 - accuracy: 1.0000\n",
            "Epoch 86/100\n",
            "469/469 [==============================] - 5s 10ms/step - loss: 5.3128e-09 - accuracy: 1.0000\n",
            "Epoch 87/100\n",
            "469/469 [==============================] - 5s 10ms/step - loss: 5.2094e-09 - accuracy: 1.0000\n",
            "Epoch 88/100\n",
            "469/469 [==============================] - 5s 11ms/step - loss: 5.1697e-09 - accuracy: 1.0000\n",
            "Epoch 89/100\n",
            "469/469 [==============================] - 5s 11ms/step - loss: 5.0545e-09 - accuracy: 1.0000\n",
            "Epoch 90/100\n",
            "469/469 [==============================] - 5s 11ms/step - loss: 5.0326e-09 - accuracy: 1.0000\n",
            "Epoch 91/100\n",
            "469/469 [==============================] - 5s 11ms/step - loss: 5.0306e-09 - accuracy: 1.0000\n",
            "Epoch 92/100\n",
            "469/469 [==============================] - 5s 11ms/step - loss: 4.9174e-09 - accuracy: 1.0000\n",
            "Epoch 93/100\n",
            "469/469 [==============================] - 5s 10ms/step - loss: 4.9293e-09 - accuracy: 1.0000\n",
            "Epoch 94/100\n",
            "469/469 [==============================] - 5s 11ms/step - loss: 4.8538e-09 - accuracy: 1.0000\n",
            "Epoch 95/100\n",
            "469/469 [==============================] - 5s 11ms/step - loss: 4.8995e-09 - accuracy: 1.0000\n",
            "Epoch 96/100\n",
            "469/469 [==============================] - 5s 11ms/step - loss: 4.7763e-09 - accuracy: 1.0000\n",
            "Epoch 97/100\n",
            "469/469 [==============================] - 5s 11ms/step - loss: 4.8002e-09 - accuracy: 1.0000\n",
            "Epoch 98/100\n",
            "469/469 [==============================] - 5s 10ms/step - loss: 4.7783e-09 - accuracy: 1.0000\n",
            "Epoch 99/100\n",
            "469/469 [==============================] - 5s 11ms/step - loss: 4.7088e-09 - accuracy: 1.0000\n",
            "Epoch 100/100\n",
            "469/469 [==============================] - 5s 11ms/step - loss: 4.6710e-09 - accuracy: 1.0000\n"
          ]
        },
        {
          "output_type": "execute_result",
          "data": {
            "text/plain": [
              "<keras.callbacks.History at 0x7f109a166b50>"
            ]
          },
          "metadata": {},
          "execution_count": 25
        }
      ]
    },
    {
      "cell_type": "code",
      "source": [
        "from keras import models\n",
        "test_loss, test_ace = model.evaluate(test_x,test_y)\n",
        "print('Test accuracy', test_ace)"
      ],
      "metadata": {
        "colab": {
          "base_uri": "https://localhost:8080/"
        },
        "id": "iKrhaFFspexh",
        "outputId": "f267fd2f-26f5-4e78-a472-8430738198f3"
      },
      "execution_count": null,
      "outputs": [
        {
          "output_type": "stream",
          "name": "stdout",
          "text": [
            "313/313 [==============================] - 2s 7ms/step - loss: 0.1528 - accuracy: 0.9838\n",
            "Test accuracy 0.9837999939918518\n"
          ]
        }
      ]
    }
  ]
}